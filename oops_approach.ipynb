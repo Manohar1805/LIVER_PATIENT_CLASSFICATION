{
 "cells": [
  {
   "cell_type": "markdown",
   "id": "761bbd4d",
   "metadata": {
    "id": "761bbd4d"
   },
   "source": [
    "# Domain Analysis"
   ]
  },
  {
   "cell_type": "markdown",
   "id": "401d778a",
   "metadata": {
    "id": "401d778a"
   },
   "source": [
    "## Attribute information:"
   ]
  },
  {
   "cell_type": "markdown",
   "id": "bcde62a9",
   "metadata": {
    "id": "bcde62a9"
   },
   "source": [
    "● **Age of the patient** "
   ]
  },
  {
   "cell_type": "markdown",
   "id": "1de0bc8a",
   "metadata": {
    "id": "1de0bc8a"
   },
   "source": [
    " ● **Gender of the patient**"
   ]
  },
  {
   "cell_type": "markdown",
   "id": "e6302516",
   "metadata": {
    "id": "e6302516"
   },
   "source": [
    "\n",
    "● **Total Bilirubin**  - normal range should be in between 1.71 to 20.5 µmol/L  as per the article (https://www.mountsinai.org/health-library/tests/bilirubin-blood-test)\n"
   ]
  },
  {
   "cell_type": "markdown",
   "id": "31819933",
   "metadata": {
    "id": "31819933"
   },
   "source": [
    "● **Direct Bilirubin** - direct bilirubin range should be less than 5.1 µmol/L for a normal person as per (https://www.mountsinai.org/health-library/tests/bilirubin-blood-test)"
   ]
  },
  {
   "cell_type": "markdown",
   "id": "e45d59ff",
   "metadata": {
    "id": "e45d59ff"
   },
   "source": [
    "● **Alkaline Phosphotase**--The normal range is 44 to 147 international units per liter (IU/L) or 0.73 to 2.45 microkatal per liter (µkat/L). as per (https://www.mountsinai.org/health-library/tests/alp-blood-test)"
   ]
  },
  {
   "cell_type": "markdown",
   "id": "0918aa80",
   "metadata": {
    "id": "0918aa80"
   },
   "source": [
    "\n",
    "● **Alamine Aminotransferase**- the normal range is 4 to 36 U/L.(https://www.mountsinai.org/health-library/tests/alanine-transaminase-alt-blood-test)"
   ]
  },
  {
   "cell_type": "markdown",
   "id": "a65ea4aa",
   "metadata": {
    "id": "a65ea4aa"
   },
   "source": [
    "● **Aspartate Aminotransferase** -- The normal range is 8 to 33 U/L.(https://www.mountsinai.org/health-library/tests/aspartate-aminotransferase-ast-blood-test)"
   ]
  },
  {
   "cell_type": "markdown",
   "id": "ce6f1dbf",
   "metadata": {
    "id": "ce6f1dbf"
   },
   "source": [
    "●**Total_ProtiensThe normal**-- range is 6.0 to 8.3 grams per deciliter (g/dL) or 60 to 83 g/L(https://www.mountsinai.org/health-library/tests/total-protein)"
   ]
  },
  {
   "cell_type": "markdown",
   "id": "44b19e50",
   "metadata": {
    "id": "44b19e50"
   },
   "source": [
    "● **Albumin** - A normal albumin range is 3.4 to 5.4 g/dL. (https://www.urmc.rochester.edu/encyclopedia/content.aspx?contenttypeid=167&contentid=albumin_blood)"
   ]
  },
  {
   "cell_type": "markdown",
   "id": "cefcb527",
   "metadata": {
    "id": "cefcb527"
   },
   "source": [
    "● **Albumin and Globulin Ratio** -The normal range for albumin/globulin ratio is over 1Trusted Source, usually around 1 to 2. That’s because there’s a bit more albumin than globulin in serum protein.(https://www.healthline.com/health/a-g-ratio-high#results)"
   ]
  },
  {
   "cell_type": "markdown",
   "id": "44c39669",
   "metadata": {
    "id": "44c39669"
   },
   "source": [
    "● **Target**: field used to split the data into two sets (1 : patient with liver disease and 2: patient\n",
    "with no liver disease disease)"
   ]
  },
  {
   "cell_type": "markdown",
   "id": "aa8be0df",
   "metadata": {
    "id": "aa8be0df"
   },
   "source": [
    "## Importing the basic libraries"
   ]
  },
  {
   "cell_type": "code",
   "execution_count": 1,
   "id": "63b4d46a",
   "metadata": {
    "id": "63b4d46a"
   },
   "outputs": [],
   "source": [
    "import numpy as np\n",
    "import pandas as pd\n",
    "import matplotlib.pyplot as plt\n",
    "import seaborn as sns\n",
    "%matplotlib inline\n",
    "\n",
    "from sklearn import metrics\n",
    "from sklearn.model_selection import GridSearchCV,RandomizedSearchCV\n",
    "from sklearn.model_selection import cross_val_score,StratifiedKFold\n",
    "from sklearn.metrics import accuracy_score\n",
    "from sklearn.metrics import confusion_matrix,classification_report,roc_curve,RocCurveDisplay,auc,roc_auc_score\n",
    "\n",
    "\n",
    "from scipy import stats as st\n",
    "\n",
    "import warnings\n",
    "warnings.filterwarnings('ignore')"
   ]
  },
  {
   "cell_type": "code",
   "execution_count": 2,
   "id": "1d8afbc1",
   "metadata": {
    "id": "1d8afbc1"
   },
   "outputs": [],
   "source": [
    "sns.set_style('whitegrid')"
   ]
  },
  {
   "cell_type": "code",
   "execution_count": 3,
   "id": "e8c40efd",
   "metadata": {
    "id": "e8c40efd"
   },
   "outputs": [],
   "source": [
    "sns.set_palette('RdYlBu_r')"
   ]
  },
  {
   "cell_type": "code",
   "execution_count": 4,
   "id": "gyD3PC-6pTYH",
   "metadata": {
    "colab": {
     "base_uri": "https://localhost:8080/"
    },
    "id": "gyD3PC-6pTYH",
    "outputId": "47d77e62-95ce-42a1-d330-150362691c73"
   },
   "outputs": [],
   "source": [
    "# !wget https://d3ilbtxij3aepc.cloudfront.net/projects/CDS-Capstone-Projects/PRCP-1007-LiverPatientPred.zip"
   ]
  },
  {
   "cell_type": "code",
   "execution_count": 5,
   "id": "y8sVzYq1qrWJ",
   "metadata": {
    "id": "y8sVzYq1qrWJ"
   },
   "outputs": [],
   "source": [
    "# import zipfile\n",
    "# zip_ref=zipfile.ZipFile('/content/PRCP-1007-LiverPatientPred.zip') #colab path\n",
    "# zip_ref.extractall()\n",
    "# zip_ref.close()"
   ]
  },
  {
   "cell_type": "code",
   "execution_count": 6,
   "id": "497e8c86",
   "metadata": {
    "id": "497e8c86"
   },
   "outputs": [],
   "source": [
    "headings=['Age','Gender','Total_Bilirubin','Direct_Bilirubin','Alkaline_Phosphotase','Alamine_Aminotransferase','Aspartate_Aminotransferase','Total_Protiens','Albumin','Albumin_and_Globulin_Ratio','Target']\n",
    "data=pd.read_csv(\"Indian Liver Patient Dataset (ILPD).csv\",names=headings)"
   ]
  },
  {
   "cell_type": "markdown",
   "id": "3b5c777f",
   "metadata": {
    "id": "3b5c777f"
   },
   "source": [
    "## Basic checks"
   ]
  },
  {
   "cell_type": "code",
   "execution_count": 7,
   "id": "c404b8b2",
   "metadata": {
    "colab": {
     "base_uri": "https://localhost:8080/",
     "height": 270
    },
    "id": "c404b8b2",
    "outputId": "cd14ba4d-75db-41cf-ba2a-94b9eb04b674"
   },
   "outputs": [
    {
     "data": {
      "text/html": [
       "<div>\n",
       "<style scoped>\n",
       "    .dataframe tbody tr th:only-of-type {\n",
       "        vertical-align: middle;\n",
       "    }\n",
       "\n",
       "    .dataframe tbody tr th {\n",
       "        vertical-align: top;\n",
       "    }\n",
       "\n",
       "    .dataframe thead th {\n",
       "        text-align: right;\n",
       "    }\n",
       "</style>\n",
       "<table border=\"1\" class=\"dataframe\">\n",
       "  <thead>\n",
       "    <tr style=\"text-align: right;\">\n",
       "      <th></th>\n",
       "      <th>Age</th>\n",
       "      <th>Gender</th>\n",
       "      <th>Total_Bilirubin</th>\n",
       "      <th>Direct_Bilirubin</th>\n",
       "      <th>Alkaline_Phosphotase</th>\n",
       "      <th>Alamine_Aminotransferase</th>\n",
       "      <th>Aspartate_Aminotransferase</th>\n",
       "      <th>Total_Protiens</th>\n",
       "      <th>Albumin</th>\n",
       "      <th>Albumin_and_Globulin_Ratio</th>\n",
       "      <th>Target</th>\n",
       "    </tr>\n",
       "  </thead>\n",
       "  <tbody>\n",
       "    <tr>\n",
       "      <th>0</th>\n",
       "      <td>65</td>\n",
       "      <td>Female</td>\n",
       "      <td>0.7</td>\n",
       "      <td>0.1</td>\n",
       "      <td>187</td>\n",
       "      <td>16</td>\n",
       "      <td>18</td>\n",
       "      <td>6.8</td>\n",
       "      <td>3.3</td>\n",
       "      <td>0.90</td>\n",
       "      <td>1</td>\n",
       "    </tr>\n",
       "    <tr>\n",
       "      <th>1</th>\n",
       "      <td>62</td>\n",
       "      <td>Male</td>\n",
       "      <td>10.9</td>\n",
       "      <td>5.5</td>\n",
       "      <td>699</td>\n",
       "      <td>64</td>\n",
       "      <td>100</td>\n",
       "      <td>7.5</td>\n",
       "      <td>3.2</td>\n",
       "      <td>0.74</td>\n",
       "      <td>1</td>\n",
       "    </tr>\n",
       "    <tr>\n",
       "      <th>2</th>\n",
       "      <td>62</td>\n",
       "      <td>Male</td>\n",
       "      <td>7.3</td>\n",
       "      <td>4.1</td>\n",
       "      <td>490</td>\n",
       "      <td>60</td>\n",
       "      <td>68</td>\n",
       "      <td>7.0</td>\n",
       "      <td>3.3</td>\n",
       "      <td>0.89</td>\n",
       "      <td>1</td>\n",
       "    </tr>\n",
       "    <tr>\n",
       "      <th>3</th>\n",
       "      <td>58</td>\n",
       "      <td>Male</td>\n",
       "      <td>1.0</td>\n",
       "      <td>0.4</td>\n",
       "      <td>182</td>\n",
       "      <td>14</td>\n",
       "      <td>20</td>\n",
       "      <td>6.8</td>\n",
       "      <td>3.4</td>\n",
       "      <td>1.00</td>\n",
       "      <td>1</td>\n",
       "    </tr>\n",
       "    <tr>\n",
       "      <th>4</th>\n",
       "      <td>72</td>\n",
       "      <td>Male</td>\n",
       "      <td>3.9</td>\n",
       "      <td>2.0</td>\n",
       "      <td>195</td>\n",
       "      <td>27</td>\n",
       "      <td>59</td>\n",
       "      <td>7.3</td>\n",
       "      <td>2.4</td>\n",
       "      <td>0.40</td>\n",
       "      <td>1</td>\n",
       "    </tr>\n",
       "  </tbody>\n",
       "</table>\n",
       "</div>"
      ],
      "text/plain": [
       "   Age  Gender  Total_Bilirubin  Direct_Bilirubin  Alkaline_Phosphotase  \\\n",
       "0   65  Female              0.7               0.1                   187   \n",
       "1   62    Male             10.9               5.5                   699   \n",
       "2   62    Male              7.3               4.1                   490   \n",
       "3   58    Male              1.0               0.4                   182   \n",
       "4   72    Male              3.9               2.0                   195   \n",
       "\n",
       "   Alamine_Aminotransferase  Aspartate_Aminotransferase  Total_Protiens  \\\n",
       "0                        16                          18             6.8   \n",
       "1                        64                         100             7.5   \n",
       "2                        60                          68             7.0   \n",
       "3                        14                          20             6.8   \n",
       "4                        27                          59             7.3   \n",
       "\n",
       "   Albumin  Albumin_and_Globulin_Ratio  Target  \n",
       "0      3.3                        0.90       1  \n",
       "1      3.2                        0.74       1  \n",
       "2      3.3                        0.89       1  \n",
       "3      3.4                        1.00       1  \n",
       "4      2.4                        0.40       1  "
      ]
     },
     "execution_count": 7,
     "metadata": {},
     "output_type": "execute_result"
    }
   ],
   "source": [
    "data.head()"
   ]
  },
  {
   "cell_type": "code",
   "execution_count": 8,
   "id": "aa559a8d",
   "metadata": {
    "colab": {
     "base_uri": "https://localhost:8080/"
    },
    "id": "aa559a8d",
    "outputId": "3a988f56-9b7f-4cd1-8892-d76920eb91cb"
   },
   "outputs": [
    {
     "data": {
      "text/plain": [
       "Index(['Age', 'Gender', 'Total_Bilirubin', 'Direct_Bilirubin',\n",
       "       'Alkaline_Phosphotase', 'Alamine_Aminotransferase',\n",
       "       'Aspartate_Aminotransferase', 'Total_Protiens', 'Albumin',\n",
       "       'Albumin_and_Globulin_Ratio', 'Target'],\n",
       "      dtype='object')"
      ]
     },
     "execution_count": 8,
     "metadata": {},
     "output_type": "execute_result"
    }
   ],
   "source": [
    "data.columns"
   ]
  },
  {
   "cell_type": "code",
   "execution_count": 9,
   "id": "f48ef709",
   "metadata": {
    "colab": {
     "base_uri": "https://localhost:8080/"
    },
    "id": "f48ef709",
    "outputId": "6404a10a-5611-4d6e-a001-cf8ac274990c"
   },
   "outputs": [
    {
     "data": {
      "text/plain": [
       "(583, 11)"
      ]
     },
     "execution_count": 9,
     "metadata": {},
     "output_type": "execute_result"
    }
   ],
   "source": [
    "data.shape"
   ]
  },
  {
   "cell_type": "code",
   "execution_count": 10,
   "id": "54ed6a58",
   "metadata": {
    "colab": {
     "base_uri": "https://localhost:8080/"
    },
    "id": "54ed6a58",
    "outputId": "516fb3fa-e775-4e11-f959-bcaa4b87fce3"
   },
   "outputs": [
    {
     "data": {
      "text/plain": [
       "Age                             int64\n",
       "Gender                         object\n",
       "Total_Bilirubin               float64\n",
       "Direct_Bilirubin              float64\n",
       "Alkaline_Phosphotase            int64\n",
       "Alamine_Aminotransferase        int64\n",
       "Aspartate_Aminotransferase      int64\n",
       "Total_Protiens                float64\n",
       "Albumin                       float64\n",
       "Albumin_and_Globulin_Ratio    float64\n",
       "Target                          int64\n",
       "dtype: object"
      ]
     },
     "execution_count": 10,
     "metadata": {},
     "output_type": "execute_result"
    }
   ],
   "source": [
    "data.dtypes"
   ]
  },
  {
   "cell_type": "code",
   "execution_count": 11,
   "id": "9cae5c82",
   "metadata": {
    "colab": {
     "base_uri": "https://localhost:8080/"
    },
    "id": "9cae5c82",
    "outputId": "0d108ffc-82e9-4330-d148-ef7de4baf123"
   },
   "outputs": [
    {
     "name": "stdout",
     "output_type": "stream",
     "text": [
      "<class 'pandas.core.frame.DataFrame'>\n",
      "RangeIndex: 583 entries, 0 to 582\n",
      "Data columns (total 11 columns):\n",
      " #   Column                      Non-Null Count  Dtype  \n",
      "---  ------                      --------------  -----  \n",
      " 0   Age                         583 non-null    int64  \n",
      " 1   Gender                      583 non-null    object \n",
      " 2   Total_Bilirubin             583 non-null    float64\n",
      " 3   Direct_Bilirubin            583 non-null    float64\n",
      " 4   Alkaline_Phosphotase        583 non-null    int64  \n",
      " 5   Alamine_Aminotransferase    583 non-null    int64  \n",
      " 6   Aspartate_Aminotransferase  583 non-null    int64  \n",
      " 7   Total_Protiens              583 non-null    float64\n",
      " 8   Albumin                     583 non-null    float64\n",
      " 9   Albumin_and_Globulin_Ratio  579 non-null    float64\n",
      " 10  Target                      583 non-null    int64  \n",
      "dtypes: float64(5), int64(5), object(1)\n",
      "memory usage: 50.2+ KB\n"
     ]
    }
   ],
   "source": [
    "data.info()"
   ]
  },
  {
   "cell_type": "markdown",
   "id": "e30fb796",
   "metadata": {
    "id": "e30fb796"
   },
   "source": [
    "# Numerical summary "
   ]
  },
  {
   "cell_type": "code",
   "execution_count": 12,
   "id": "47494a43",
   "metadata": {
    "colab": {
     "base_uri": "https://localhost:8080/",
     "height": 364
    },
    "id": "47494a43",
    "outputId": "22479230-c3f3-45e4-e0ce-9606da1bccc2",
    "scrolled": true
   },
   "outputs": [
    {
     "data": {
      "text/html": [
       "<div>\n",
       "<style scoped>\n",
       "    .dataframe tbody tr th:only-of-type {\n",
       "        vertical-align: middle;\n",
       "    }\n",
       "\n",
       "    .dataframe tbody tr th {\n",
       "        vertical-align: top;\n",
       "    }\n",
       "\n",
       "    .dataframe thead th {\n",
       "        text-align: right;\n",
       "    }\n",
       "</style>\n",
       "<table border=\"1\" class=\"dataframe\">\n",
       "  <thead>\n",
       "    <tr style=\"text-align: right;\">\n",
       "      <th></th>\n",
       "      <th>Age</th>\n",
       "      <th>Total_Bilirubin</th>\n",
       "      <th>Direct_Bilirubin</th>\n",
       "      <th>Alkaline_Phosphotase</th>\n",
       "      <th>Alamine_Aminotransferase</th>\n",
       "      <th>Aspartate_Aminotransferase</th>\n",
       "      <th>Total_Protiens</th>\n",
       "      <th>Albumin</th>\n",
       "      <th>Albumin_and_Globulin_Ratio</th>\n",
       "      <th>Target</th>\n",
       "    </tr>\n",
       "  </thead>\n",
       "  <tbody>\n",
       "    <tr>\n",
       "      <th>count</th>\n",
       "      <td>583.000000</td>\n",
       "      <td>583.000000</td>\n",
       "      <td>583.000000</td>\n",
       "      <td>583.000000</td>\n",
       "      <td>583.000000</td>\n",
       "      <td>583.000000</td>\n",
       "      <td>583.000000</td>\n",
       "      <td>583.000000</td>\n",
       "      <td>579.000000</td>\n",
       "      <td>583.000000</td>\n",
       "    </tr>\n",
       "    <tr>\n",
       "      <th>mean</th>\n",
       "      <td>44.746141</td>\n",
       "      <td>3.298799</td>\n",
       "      <td>1.486106</td>\n",
       "      <td>290.576329</td>\n",
       "      <td>80.713551</td>\n",
       "      <td>109.910806</td>\n",
       "      <td>6.483190</td>\n",
       "      <td>3.141852</td>\n",
       "      <td>0.947064</td>\n",
       "      <td>1.286449</td>\n",
       "    </tr>\n",
       "    <tr>\n",
       "      <th>std</th>\n",
       "      <td>16.189833</td>\n",
       "      <td>6.209522</td>\n",
       "      <td>2.808498</td>\n",
       "      <td>242.937989</td>\n",
       "      <td>182.620356</td>\n",
       "      <td>288.918529</td>\n",
       "      <td>1.085451</td>\n",
       "      <td>0.795519</td>\n",
       "      <td>0.319592</td>\n",
       "      <td>0.452490</td>\n",
       "    </tr>\n",
       "    <tr>\n",
       "      <th>min</th>\n",
       "      <td>4.000000</td>\n",
       "      <td>0.400000</td>\n",
       "      <td>0.100000</td>\n",
       "      <td>63.000000</td>\n",
       "      <td>10.000000</td>\n",
       "      <td>10.000000</td>\n",
       "      <td>2.700000</td>\n",
       "      <td>0.900000</td>\n",
       "      <td>0.300000</td>\n",
       "      <td>1.000000</td>\n",
       "    </tr>\n",
       "    <tr>\n",
       "      <th>25%</th>\n",
       "      <td>33.000000</td>\n",
       "      <td>0.800000</td>\n",
       "      <td>0.200000</td>\n",
       "      <td>175.500000</td>\n",
       "      <td>23.000000</td>\n",
       "      <td>25.000000</td>\n",
       "      <td>5.800000</td>\n",
       "      <td>2.600000</td>\n",
       "      <td>0.700000</td>\n",
       "      <td>1.000000</td>\n",
       "    </tr>\n",
       "    <tr>\n",
       "      <th>50%</th>\n",
       "      <td>45.000000</td>\n",
       "      <td>1.000000</td>\n",
       "      <td>0.300000</td>\n",
       "      <td>208.000000</td>\n",
       "      <td>35.000000</td>\n",
       "      <td>42.000000</td>\n",
       "      <td>6.600000</td>\n",
       "      <td>3.100000</td>\n",
       "      <td>0.930000</td>\n",
       "      <td>1.000000</td>\n",
       "    </tr>\n",
       "    <tr>\n",
       "      <th>75%</th>\n",
       "      <td>58.000000</td>\n",
       "      <td>2.600000</td>\n",
       "      <td>1.300000</td>\n",
       "      <td>298.000000</td>\n",
       "      <td>60.500000</td>\n",
       "      <td>87.000000</td>\n",
       "      <td>7.200000</td>\n",
       "      <td>3.800000</td>\n",
       "      <td>1.100000</td>\n",
       "      <td>2.000000</td>\n",
       "    </tr>\n",
       "    <tr>\n",
       "      <th>max</th>\n",
       "      <td>90.000000</td>\n",
       "      <td>75.000000</td>\n",
       "      <td>19.700000</td>\n",
       "      <td>2110.000000</td>\n",
       "      <td>2000.000000</td>\n",
       "      <td>4929.000000</td>\n",
       "      <td>9.600000</td>\n",
       "      <td>5.500000</td>\n",
       "      <td>2.800000</td>\n",
       "      <td>2.000000</td>\n",
       "    </tr>\n",
       "  </tbody>\n",
       "</table>\n",
       "</div>"
      ],
      "text/plain": [
       "              Age  Total_Bilirubin  Direct_Bilirubin  Alkaline_Phosphotase  \\\n",
       "count  583.000000       583.000000        583.000000            583.000000   \n",
       "mean    44.746141         3.298799          1.486106            290.576329   \n",
       "std     16.189833         6.209522          2.808498            242.937989   \n",
       "min      4.000000         0.400000          0.100000             63.000000   \n",
       "25%     33.000000         0.800000          0.200000            175.500000   \n",
       "50%     45.000000         1.000000          0.300000            208.000000   \n",
       "75%     58.000000         2.600000          1.300000            298.000000   \n",
       "max     90.000000        75.000000         19.700000           2110.000000   \n",
       "\n",
       "       Alamine_Aminotransferase  Aspartate_Aminotransferase  Total_Protiens  \\\n",
       "count                583.000000                  583.000000      583.000000   \n",
       "mean                  80.713551                  109.910806        6.483190   \n",
       "std                  182.620356                  288.918529        1.085451   \n",
       "min                   10.000000                   10.000000        2.700000   \n",
       "25%                   23.000000                   25.000000        5.800000   \n",
       "50%                   35.000000                   42.000000        6.600000   \n",
       "75%                   60.500000                   87.000000        7.200000   \n",
       "max                 2000.000000                 4929.000000        9.600000   \n",
       "\n",
       "          Albumin  Albumin_and_Globulin_Ratio      Target  \n",
       "count  583.000000                  579.000000  583.000000  \n",
       "mean     3.141852                    0.947064    1.286449  \n",
       "std      0.795519                    0.319592    0.452490  \n",
       "min      0.900000                    0.300000    1.000000  \n",
       "25%      2.600000                    0.700000    1.000000  \n",
       "50%      3.100000                    0.930000    1.000000  \n",
       "75%      3.800000                    1.100000    2.000000  \n",
       "max      5.500000                    2.800000    2.000000  "
      ]
     },
     "execution_count": 12,
     "metadata": {},
     "output_type": "execute_result"
    }
   ],
   "source": [
    "data.describe()"
   ]
  },
  {
   "cell_type": "markdown",
   "id": "5e2ffa44",
   "metadata": {
    "id": "5e2ffa44"
   },
   "source": [
    "# categorical summary"
   ]
  },
  {
   "cell_type": "code",
   "execution_count": 13,
   "id": "75e79252",
   "metadata": {
    "colab": {
     "base_uri": "https://localhost:8080/",
     "height": 175
    },
    "id": "75e79252",
    "outputId": "8992c81a-ba26-4451-a22b-980c907457e3"
   },
   "outputs": [
    {
     "data": {
      "text/html": [
       "<div>\n",
       "<style scoped>\n",
       "    .dataframe tbody tr th:only-of-type {\n",
       "        vertical-align: middle;\n",
       "    }\n",
       "\n",
       "    .dataframe tbody tr th {\n",
       "        vertical-align: top;\n",
       "    }\n",
       "\n",
       "    .dataframe thead th {\n",
       "        text-align: right;\n",
       "    }\n",
       "</style>\n",
       "<table border=\"1\" class=\"dataframe\">\n",
       "  <thead>\n",
       "    <tr style=\"text-align: right;\">\n",
       "      <th></th>\n",
       "      <th>Gender</th>\n",
       "    </tr>\n",
       "  </thead>\n",
       "  <tbody>\n",
       "    <tr>\n",
       "      <th>count</th>\n",
       "      <td>583</td>\n",
       "    </tr>\n",
       "    <tr>\n",
       "      <th>unique</th>\n",
       "      <td>2</td>\n",
       "    </tr>\n",
       "    <tr>\n",
       "      <th>top</th>\n",
       "      <td>Male</td>\n",
       "    </tr>\n",
       "    <tr>\n",
       "      <th>freq</th>\n",
       "      <td>441</td>\n",
       "    </tr>\n",
       "  </tbody>\n",
       "</table>\n",
       "</div>"
      ],
      "text/plain": [
       "       Gender\n",
       "count     583\n",
       "unique      2\n",
       "top      Male\n",
       "freq      441"
      ]
     },
     "execution_count": 13,
     "metadata": {},
     "output_type": "execute_result"
    }
   ],
   "source": [
    "data.describe(include='O')"
   ]
  },
  {
   "cell_type": "markdown",
   "id": "afb3a3f2",
   "metadata": {
    "id": "afb3a3f2"
   },
   "source": [
    "# Null value count"
   ]
  },
  {
   "cell_type": "code",
   "execution_count": 14,
   "id": "c87742c7",
   "metadata": {
    "colab": {
     "base_uri": "https://localhost:8080/"
    },
    "id": "c87742c7",
    "outputId": "0b334742-df9d-4257-82f5-63c5288c1b69"
   },
   "outputs": [
    {
     "data": {
      "text/plain": [
       "Age                           0\n",
       "Gender                        0\n",
       "Total_Bilirubin               0\n",
       "Direct_Bilirubin              0\n",
       "Alkaline_Phosphotase          0\n",
       "Alamine_Aminotransferase      0\n",
       "Aspartate_Aminotransferase    0\n",
       "Total_Protiens                0\n",
       "Albumin                       0\n",
       "Albumin_and_Globulin_Ratio    4\n",
       "Target                        0\n",
       "dtype: int64"
      ]
     },
     "execution_count": 14,
     "metadata": {},
     "output_type": "execute_result"
    }
   ],
   "source": [
    "data.isnull().sum()"
   ]
  },
  {
   "cell_type": "markdown",
   "id": "6caae654",
   "metadata": {
    "id": "6caae654"
   },
   "source": [
    "# Target classes and count"
   ]
  },
  {
   "cell_type": "code",
   "execution_count": 15,
   "id": "719b1c57",
   "metadata": {
    "colab": {
     "base_uri": "https://localhost:8080/"
    },
    "id": "719b1c57",
    "outputId": "8f206364-a7ab-40a5-ef38-ffe514109701",
    "scrolled": true
   },
   "outputs": [
    {
     "data": {
      "text/plain": [
       "array([1, 2], dtype=int64)"
      ]
     },
     "execution_count": 15,
     "metadata": {},
     "output_type": "execute_result"
    }
   ],
   "source": [
    "data.Target.unique()"
   ]
  },
  {
   "cell_type": "code",
   "execution_count": 16,
   "id": "76515ed3",
   "metadata": {
    "colab": {
     "base_uri": "https://localhost:8080/"
    },
    "id": "76515ed3",
    "outputId": "70d7862a-1070-44a1-965a-8c5377440d49",
    "scrolled": false
   },
   "outputs": [
    {
     "data": {
      "text/plain": [
       "1    416\n",
       "2    167\n",
       "Name: Target, dtype: int64"
      ]
     },
     "execution_count": 16,
     "metadata": {},
     "output_type": "execute_result"
    }
   ],
   "source": [
    "data.Target.value_counts()"
   ]
  },
  {
   "cell_type": "markdown",
   "id": "b96512c4",
   "metadata": {
    "id": "b96512c4"
   },
   "source": [
    "## Removing the duplicates"
   ]
  },
  {
   "cell_type": "code",
   "execution_count": 17,
   "id": "33d2d73b",
   "metadata": {
    "colab": {
     "base_uri": "https://localhost:8080/"
    },
    "id": "33d2d73b",
    "outputId": "adf9c50c-9dc2-463a-a55b-35d5e0f61af4",
    "scrolled": false
   },
   "outputs": [
    {
     "data": {
      "text/plain": [
       "13"
      ]
     },
     "execution_count": 17,
     "metadata": {},
     "output_type": "execute_result"
    }
   ],
   "source": [
    "duplicates=data[data.duplicated()]\n",
    "len(duplicates)"
   ]
  },
  {
   "cell_type": "code",
   "execution_count": 18,
   "id": "6cbdb350",
   "metadata": {
    "colab": {
     "base_uri": "https://localhost:8080/"
    },
    "id": "6cbdb350",
    "outputId": "5956de55-2969-45a6-d4e3-cdce77925098",
    "scrolled": true
   },
   "outputs": [
    {
     "name": "stdout",
     "output_type": "stream",
     "text": [
      "No of duplicate values: 13 \n",
      "size of data: (583, 11)\n"
     ]
    }
   ],
   "source": [
    "print('No of duplicate values:', duplicates.shape[0], '\\nsize of data:', data.shape)"
   ]
  },
  {
   "cell_type": "code",
   "execution_count": 19,
   "id": "c8010423",
   "metadata": {
    "colab": {
     "base_uri": "https://localhost:8080/"
    },
    "id": "c8010423",
    "outputId": "ee3696af-c3ac-4e3f-a825-2bb40c35f91e",
    "scrolled": true
   },
   "outputs": [
    {
     "data": {
      "text/plain": [
       "(570, 11)"
      ]
     },
     "execution_count": 19,
     "metadata": {},
     "output_type": "execute_result"
    }
   ],
   "source": [
    "data=data.drop_duplicates()\n",
    "data.shape"
   ]
  },
  {
   "cell_type": "markdown",
   "id": "26727927",
   "metadata": {
    "id": "26727927"
   },
   "source": [
    "## Categorical and numerical columns segregation"
   ]
  },
  {
   "cell_type": "code",
   "execution_count": 20,
   "id": "e79476af",
   "metadata": {
    "colab": {
     "base_uri": "https://localhost:8080/"
    },
    "id": "e79476af",
    "outputId": "e6a37067-05ee-48fc-eaf8-004d87268e2c",
    "scrolled": false
   },
   "outputs": [
    {
     "name": "stdout",
     "output_type": "stream",
     "text": [
      "catgorical columns are:- \n",
      " ['Gender'] \n",
      "\n",
      "numerical columns are:- \n",
      " ['Age', 'Total_Bilirubin', 'Direct_Bilirubin', 'Alkaline_Phosphotase', 'Alamine_Aminotransferase', 'Aspartate_Aminotransferase', 'Total_Protiens', 'Albumin', 'Albumin_and_Globulin_Ratio', 'Target'] "
     ]
    }
   ],
   "source": [
    "cat_cols=[] # empty list for categorical columns\n",
    "num_cols=[] # empty list for numerical columns\n",
    "\n",
    "for i in data.columns:\n",
    "    if data[i].dtype=='object': # condition to check whether it is object or any other datatype\n",
    "        cat_cols.append(i)\n",
    "    else:\n",
    "        num_cols.append(i)\n",
    "print('catgorical columns are:- \\n', cat_cols, end=' ')\n",
    "print('\\n')\n",
    "print('numerical columns are:- \\n', num_cols, end=' ')"
   ]
  },
  {
   "cell_type": "code",
   "execution_count": 21,
   "id": "237925b4",
   "metadata": {
    "id": "237925b4"
   },
   "outputs": [],
   "source": [
    "num_data=data[num_cols] # defined numerical dataframe using numerical columns\n",
    "cat_data=data[cat_cols] # defined categorical dataframe using catgorical columns"
   ]
  },
  {
   "cell_type": "code",
   "execution_count": 22,
   "id": "7bdbcded",
   "metadata": {
    "colab": {
     "base_uri": "https://localhost:8080/",
     "height": 270
    },
    "id": "7bdbcded",
    "outputId": "b6dad632-9102-4086-a566-5f0be0a9f26e",
    "scrolled": true
   },
   "outputs": [
    {
     "data": {
      "text/html": [
       "<div>\n",
       "<style scoped>\n",
       "    .dataframe tbody tr th:only-of-type {\n",
       "        vertical-align: middle;\n",
       "    }\n",
       "\n",
       "    .dataframe tbody tr th {\n",
       "        vertical-align: top;\n",
       "    }\n",
       "\n",
       "    .dataframe thead th {\n",
       "        text-align: right;\n",
       "    }\n",
       "</style>\n",
       "<table border=\"1\" class=\"dataframe\">\n",
       "  <thead>\n",
       "    <tr style=\"text-align: right;\">\n",
       "      <th></th>\n",
       "      <th>Age</th>\n",
       "      <th>Total_Bilirubin</th>\n",
       "      <th>Direct_Bilirubin</th>\n",
       "      <th>Alkaline_Phosphotase</th>\n",
       "      <th>Alamine_Aminotransferase</th>\n",
       "      <th>Aspartate_Aminotransferase</th>\n",
       "      <th>Total_Protiens</th>\n",
       "      <th>Albumin</th>\n",
       "      <th>Albumin_and_Globulin_Ratio</th>\n",
       "      <th>Target</th>\n",
       "    </tr>\n",
       "  </thead>\n",
       "  <tbody>\n",
       "    <tr>\n",
       "      <th>0</th>\n",
       "      <td>65</td>\n",
       "      <td>0.7</td>\n",
       "      <td>0.1</td>\n",
       "      <td>187</td>\n",
       "      <td>16</td>\n",
       "      <td>18</td>\n",
       "      <td>6.8</td>\n",
       "      <td>3.3</td>\n",
       "      <td>0.90</td>\n",
       "      <td>1</td>\n",
       "    </tr>\n",
       "    <tr>\n",
       "      <th>1</th>\n",
       "      <td>62</td>\n",
       "      <td>10.9</td>\n",
       "      <td>5.5</td>\n",
       "      <td>699</td>\n",
       "      <td>64</td>\n",
       "      <td>100</td>\n",
       "      <td>7.5</td>\n",
       "      <td>3.2</td>\n",
       "      <td>0.74</td>\n",
       "      <td>1</td>\n",
       "    </tr>\n",
       "    <tr>\n",
       "      <th>2</th>\n",
       "      <td>62</td>\n",
       "      <td>7.3</td>\n",
       "      <td>4.1</td>\n",
       "      <td>490</td>\n",
       "      <td>60</td>\n",
       "      <td>68</td>\n",
       "      <td>7.0</td>\n",
       "      <td>3.3</td>\n",
       "      <td>0.89</td>\n",
       "      <td>1</td>\n",
       "    </tr>\n",
       "    <tr>\n",
       "      <th>3</th>\n",
       "      <td>58</td>\n",
       "      <td>1.0</td>\n",
       "      <td>0.4</td>\n",
       "      <td>182</td>\n",
       "      <td>14</td>\n",
       "      <td>20</td>\n",
       "      <td>6.8</td>\n",
       "      <td>3.4</td>\n",
       "      <td>1.00</td>\n",
       "      <td>1</td>\n",
       "    </tr>\n",
       "    <tr>\n",
       "      <th>4</th>\n",
       "      <td>72</td>\n",
       "      <td>3.9</td>\n",
       "      <td>2.0</td>\n",
       "      <td>195</td>\n",
       "      <td>27</td>\n",
       "      <td>59</td>\n",
       "      <td>7.3</td>\n",
       "      <td>2.4</td>\n",
       "      <td>0.40</td>\n",
       "      <td>1</td>\n",
       "    </tr>\n",
       "  </tbody>\n",
       "</table>\n",
       "</div>"
      ],
      "text/plain": [
       "   Age  Total_Bilirubin  Direct_Bilirubin  Alkaline_Phosphotase  \\\n",
       "0   65              0.7               0.1                   187   \n",
       "1   62             10.9               5.5                   699   \n",
       "2   62              7.3               4.1                   490   \n",
       "3   58              1.0               0.4                   182   \n",
       "4   72              3.9               2.0                   195   \n",
       "\n",
       "   Alamine_Aminotransferase  Aspartate_Aminotransferase  Total_Protiens  \\\n",
       "0                        16                          18             6.8   \n",
       "1                        64                         100             7.5   \n",
       "2                        60                          68             7.0   \n",
       "3                        14                          20             6.8   \n",
       "4                        27                          59             7.3   \n",
       "\n",
       "   Albumin  Albumin_and_Globulin_Ratio  Target  \n",
       "0      3.3                        0.90       1  \n",
       "1      3.2                        0.74       1  \n",
       "2      3.3                        0.89       1  \n",
       "3      3.4                        1.00       1  \n",
       "4      2.4                        0.40       1  "
      ]
     },
     "execution_count": 22,
     "metadata": {},
     "output_type": "execute_result"
    }
   ],
   "source": [
    "num_data.head()"
   ]
  },
  {
   "cell_type": "code",
   "execution_count": 23,
   "id": "7d60f048",
   "metadata": {
    "colab": {
     "base_uri": "https://localhost:8080/",
     "height": 206
    },
    "id": "7d60f048",
    "outputId": "d1a665ac-3a7f-4d1b-c45b-45d8fe09b3d3"
   },
   "outputs": [
    {
     "data": {
      "text/html": [
       "<div>\n",
       "<style scoped>\n",
       "    .dataframe tbody tr th:only-of-type {\n",
       "        vertical-align: middle;\n",
       "    }\n",
       "\n",
       "    .dataframe tbody tr th {\n",
       "        vertical-align: top;\n",
       "    }\n",
       "\n",
       "    .dataframe thead th {\n",
       "        text-align: right;\n",
       "    }\n",
       "</style>\n",
       "<table border=\"1\" class=\"dataframe\">\n",
       "  <thead>\n",
       "    <tr style=\"text-align: right;\">\n",
       "      <th></th>\n",
       "      <th>Gender</th>\n",
       "    </tr>\n",
       "  </thead>\n",
       "  <tbody>\n",
       "    <tr>\n",
       "      <th>0</th>\n",
       "      <td>Female</td>\n",
       "    </tr>\n",
       "    <tr>\n",
       "      <th>1</th>\n",
       "      <td>Male</td>\n",
       "    </tr>\n",
       "    <tr>\n",
       "      <th>2</th>\n",
       "      <td>Male</td>\n",
       "    </tr>\n",
       "    <tr>\n",
       "      <th>3</th>\n",
       "      <td>Male</td>\n",
       "    </tr>\n",
       "    <tr>\n",
       "      <th>4</th>\n",
       "      <td>Male</td>\n",
       "    </tr>\n",
       "  </tbody>\n",
       "</table>\n",
       "</div>"
      ],
      "text/plain": [
       "   Gender\n",
       "0  Female\n",
       "1    Male\n",
       "2    Male\n",
       "3    Male\n",
       "4    Male"
      ]
     },
     "execution_count": 23,
     "metadata": {},
     "output_type": "execute_result"
    }
   ],
   "source": [
    "cat_data.head()"
   ]
  },
  {
   "cell_type": "code",
   "execution_count": 24,
   "id": "f988f0ac",
   "metadata": {
    "colab": {
     "base_uri": "https://localhost:8080/"
    },
    "id": "f988f0ac",
    "outputId": "9486a43d-4e69-49e9-9fdd-240a016df6fc"
   },
   "outputs": [
    {
     "data": {
      "text/plain": [
       "array(['Female', 'Male'], dtype=object)"
      ]
     },
     "execution_count": 24,
     "metadata": {},
     "output_type": "execute_result"
    }
   ],
   "source": [
    "data.Gender.unique() "
   ]
  },
  {
   "cell_type": "code",
   "execution_count": 25,
   "id": "713ae4f4",
   "metadata": {
    "colab": {
     "base_uri": "https://localhost:8080/"
    },
    "id": "713ae4f4",
    "outputId": "046b4a3c-c77f-460f-b8e7-183555aea895"
   },
   "outputs": [
    {
     "data": {
      "text/plain": [
       "Male      430\n",
       "Female    140\n",
       "Name: Gender, dtype: int64"
      ]
     },
     "execution_count": 25,
     "metadata": {},
     "output_type": "execute_result"
    }
   ],
   "source": [
    "data.Gender.value_counts()"
   ]
  },
  {
   "cell_type": "markdown",
   "id": "29166789",
   "metadata": {
    "id": "29166789"
   },
   "source": [
    "## Exploratory data analysis"
   ]
  },
  {
   "cell_type": "markdown",
   "id": "a9f44844",
   "metadata": {
    "id": "a9f44844"
   },
   "source": [
    "### Univariate analysis for numerical data"
   ]
  },
  {
   "cell_type": "code",
   "execution_count": 26,
   "id": "4e6f9623",
   "metadata": {
    "colab": {
     "base_uri": "https://localhost:8080/",
     "height": 1000
    },
    "id": "4e6f9623",
    "outputId": "517980ea-92d2-4289-aabc-b9801fd7b0ff",
    "scrolled": false
   },
   "outputs": [
    {
     "data": {
      "image/png": "[encoded data removed]",
      "text/plain": [
       "<Figure size 2000x2500 with 10 Axes>"
      ]
     },
     "metadata": {},
     "output_type": "display_data"
    }
   ],
   "source": [
    "# plt.figure(figsize=(20,25),facecolor='white')\n",
    "# plotnumber=1\n",
    "\n",
    "# for i in num_data:\n",
    "   \n",
    "#     plt.subplot(5,2,plotnumber) \n",
    "#     sns.histplot(x=i, data=data)\n",
    "#     plt.xlabel(i,fontsize=20)\n",
    "#     plt.ylabel('count',fontsize=20)\n",
    "#     plt.xticks(fontsize=15)\n",
    "#     plt.yticks(fontsize=15)\n",
    "#     plotnumber+=1\n",
    "    \n",
    "# plt.tight_layout()"
   ]
  },
  {
   "cell_type": "markdown",
   "id": "d823ee17",
   "metadata": {
    "id": "d823ee17"
   },
   "source": [
    "●`data['Age']` -- the age column is normally distributed so the maximum data is taken for the age between 30-60\n"
   ]
  },
  {
   "cell_type": "markdown",
   "id": "83f1f75a",
   "metadata": {
    "id": "83f1f75a"
   },
   "source": [
    "●`data['Total_Bilirubin]`,`data['Direct_Bilirubin']`,`data['Alkaline_Phosphotase']`,\n",
    "`data['Alamine_Aminotransferase']``data['Aspartate_Aminotransferase']`- most of the values are in the range of normal person health condtion few entries are having values over the range of healthy person\n"
   ]
  },
  {
   "cell_type": "markdown",
   "id": "f5e5214d",
   "metadata": {
    "id": "f5e5214d"
   },
   "source": [
    "●`data['Total_Protiens']`--- most of the people having protein count between 5-8 which is normal"
   ]
  },
  {
   "cell_type": "markdown",
   "id": "e82718e6",
   "metadata": {
    "id": "e82718e6"
   },
   "source": [
    "●`data['Albumin']` & `data['AAlbumin_and_Globulin_Ratio']` also having most entries in the normal range "
   ]
  },
  {
   "cell_type": "markdown",
   "id": "fcd0e832",
   "metadata": {
    "id": "fcd0e832"
   },
   "source": [
    "### Univariate analysis for categorical data"
   ]
  },
  {
   "cell_type": "code",
   "execution_count": 27,
   "id": "6a9bad7d",
   "metadata": {
    "colab": {
     "base_uri": "https://localhost:8080/",
     "height": 465
    },
    "id": "6a9bad7d",
    "outputId": "74a36359-fd10-4203-c6d0-80fe2a36939b"
   },
   "outputs": [],
   "source": [
    "# plt.figure(figsize=(5,5), facecolor='white')\n",
    "# sns.countplot(x='Gender', hue='Target', data=data)\n",
    "# plt.show()"
   ]
  },
  {
   "cell_type": "markdown",
   "id": "c620efbc",
   "metadata": {
    "id": "c620efbc"
   },
   "source": [
    "●   most of the liver daigonisis patients are male and male are prone to liver disease"
   ]
  },
  {
   "cell_type": "code",
   "execution_count": 28,
   "id": "52cba98f",
   "metadata": {
    "id": "52cba98f"
   },
   "outputs": [],
   "source": [
    "#import sweetviz as sv # univariate\n",
    "#my_report=sv.analyze(data)\n",
    "#my_report.show_html()"
   ]
  },
  {
   "cell_type": "markdown",
   "id": "e87e359c",
   "metadata": {
    "id": "e87e359c"
   },
   "source": [
    "### Bivariate analysis"
   ]
  },
  {
   "cell_type": "code",
   "execution_count": 29,
   "id": "19e24230",
   "metadata": {
    "colab": {
     "base_uri": "https://localhost:8080/",
     "height": 625
    },
    "id": "19e24230",
    "outputId": "1b044d82-0e33-4112-984d-f4ac5f3f65c6"
   },
   "outputs": [],
   "source": [
    "# plt.figure(figsize=(5,5))\n",
    "# sns.jointplot(x='Total_Bilirubin',y='Direct_Bilirubin',hue='Target',palette='RdYlBu_r',data=data)\n",
    "# plt.show()"
   ]
  },
  {
   "cell_type": "code",
   "execution_count": 30,
   "id": "74443466",
   "metadata": {
    "colab": {
     "base_uri": "https://localhost:8080/",
     "height": 625
    },
    "id": "74443466",
    "outputId": "71c93cb7-9817-4d9e-ef75-b9f6850f9ed3"
   },
   "outputs": [],
   "source": [
    "# plt.figure(figsize=(5,5),facecolor='white')\n",
    "# sns.jointplot(x='Total_Bilirubin',y='Albumin',palette='RdYlBu_r',hue='Target',data=data)\n",
    "# plt.show()"
   ]
  },
  {
   "cell_type": "code",
   "execution_count": 31,
   "id": "ac9e990f",
   "metadata": {
    "colab": {
     "base_uri": "https://localhost:8080/",
     "height": 625
    },
    "id": "ac9e990f",
    "outputId": "8bd350f7-4c1c-4af6-87fe-770d8641e9e2"
   },
   "outputs": [],
   "source": [
    "# plt.figure(figsize=(5,5),facecolor='white')\n",
    "# sns.jointplot(x='Total_Protiens',y='Albumin_and_Globulin_Ratio',palette='RdYlBu_r',hue='Target',data=data)\n",
    "# plt.show()"
   ]
  },
  {
   "cell_type": "markdown",
   "id": "d7a45bf7",
   "metadata": {
    "id": "d7a45bf7"
   },
   "source": [
    "●  we can clearly see that there is no direct relation between the independant features"
   ]
  },
  {
   "cell_type": "markdown",
   "id": "652b4ee2",
   "metadata": {
    "id": "652b4ee2"
   },
   "source": [
    "### Multivariate analysis"
   ]
  },
  {
   "cell_type": "code",
   "execution_count": 32,
   "id": "fabe7e78",
   "metadata": {
    "colab": {
     "base_uri": "https://localhost:8080/",
     "height": 1000
    },
    "id": "fabe7e78",
    "outputId": "378d89fe-cb97-42f8-f241-2cd946eca93e"
   },
   "outputs": [],
   "source": [
    "# sns.pairplot(data,hue='Target',palette='RdYlBu_r')"
   ]
  },
  {
   "cell_type": "markdown",
   "id": "-b-7H8i358Bx",
   "metadata": {
    "id": "-b-7H8i358Bx"
   },
   "source": [
    "\n",
    "\n",
    "*   with the increment of `albumin`  the `albumin_glucose_ratio` is increasing \n",
    "*   and also with it has direct corelation with total protien of the body\n",
    "*   the `total bilirubin` and `direct bilirubin` is directly corelated\n",
    "\n",
    "\n"
   ]
  },
  {
   "cell_type": "markdown",
   "id": "74c5984e",
   "metadata": {
    "id": "74c5984e"
   },
   "source": [
    "## Data preprocessing"
   ]
  },
  {
   "cell_type": "code",
   "execution_count": 33,
   "id": "109cd035",
   "metadata": {
    "colab": {
     "base_uri": "https://localhost:8080/"
    },
    "id": "109cd035",
    "outputId": "ed29effa-f1b8-43db-de24-67e38d855c29"
   },
   "outputs": [
    {
     "data": {
      "text/plain": [
       "Age                           0\n",
       "Gender                        0\n",
       "Total_Bilirubin               0\n",
       "Direct_Bilirubin              0\n",
       "Alkaline_Phosphotase          0\n",
       "Alamine_Aminotransferase      0\n",
       "Aspartate_Aminotransferase    0\n",
       "Total_Protiens                0\n",
       "Albumin                       0\n",
       "Albumin_and_Globulin_Ratio    4\n",
       "Target                        0\n",
       "dtype: int64"
      ]
     },
     "execution_count": 33,
     "metadata": {},
     "output_type": "execute_result"
    }
   ],
   "source": [
    "data.isnull().sum()"
   ]
  },
  {
   "cell_type": "markdown",
   "id": "9952cdbb",
   "metadata": {
    "id": "9952cdbb"
   },
   "source": [
    "## Handling missing values"
   ]
  },
  {
   "cell_type": "code",
   "execution_count": 34,
   "id": "ddb1d885",
   "metadata": {
    "id": "ddb1d885"
   },
   "outputs": [],
   "source": [
    "data.dropna(inplace=True)"
   ]
  },
  {
   "cell_type": "code",
   "execution_count": 35,
   "id": "0d9428d8",
   "metadata": {
    "colab": {
     "base_uri": "https://localhost:8080/"
    },
    "id": "0d9428d8",
    "outputId": "12dc89a4-b3be-49bb-ab89-6c22f3c2ab57"
   },
   "outputs": [
    {
     "data": {
      "text/plain": [
       "Age                           0\n",
       "Gender                        0\n",
       "Total_Bilirubin               0\n",
       "Direct_Bilirubin              0\n",
       "Alkaline_Phosphotase          0\n",
       "Alamine_Aminotransferase      0\n",
       "Aspartate_Aminotransferase    0\n",
       "Total_Protiens                0\n",
       "Albumin                       0\n",
       "Albumin_and_Globulin_Ratio    0\n",
       "Target                        0\n",
       "dtype: int64"
      ]
     },
     "execution_count": 35,
     "metadata": {},
     "output_type": "execute_result"
    }
   ],
   "source": [
    "data.isnull().sum()"
   ]
  },
  {
   "cell_type": "code",
   "execution_count": 36,
   "id": "83780948",
   "metadata": {
    "colab": {
     "base_uri": "https://localhost:8080/"
    },
    "id": "83780948",
    "outputId": "70bfb3b1-0072-4551-8a16-21e54b012476"
   },
   "outputs": [
    {
     "data": {
      "text/plain": [
       "(566, 11)"
      ]
     },
     "execution_count": 36,
     "metadata": {},
     "output_type": "execute_result"
    }
   ],
   "source": [
    "data.shape"
   ]
  },
  {
   "cell_type": "markdown",
   "id": "68290d46",
   "metadata": {
    "id": "68290d46"
   },
   "source": [
    "## Converting categorical data in to numerical data"
   ]
  },
  {
   "cell_type": "markdown",
   "id": "e301cf5c",
   "metadata": {
    "id": "e301cf5c"
   },
   "source": [
    "## One hot encoder"
   ]
  },
  {
   "cell_type": "code",
   "execution_count": 37,
   "id": "eee5baec",
   "metadata": {
    "colab": {
     "base_uri": "https://localhost:8080/"
    },
    "id": "eee5baec",
    "outputId": "e9a431cc-12d1-4179-dd94-7d1464184d5e",
    "scrolled": true
   },
   "outputs": [
    {
     "data": {
      "text/plain": [
       "Male      428\n",
       "Female    138\n",
       "Name: Gender, dtype: int64"
      ]
     },
     "execution_count": 37,
     "metadata": {},
     "output_type": "execute_result"
    }
   ],
   "source": [
    "data.Gender.value_counts()"
   ]
  },
  {
   "cell_type": "code",
   "execution_count": 38,
   "id": "2864f732",
   "metadata": {
    "id": "2864f732"
   },
   "outputs": [],
   "source": [
    "data['Gender']=pd.get_dummies(data['Gender'],drop_first=True)"
   ]
  },
  {
   "cell_type": "code",
   "execution_count": 39,
   "id": "eda93870",
   "metadata": {
    "colab": {
     "base_uri": "https://localhost:8080/",
     "height": 270
    },
    "id": "eda93870",
    "outputId": "c151fcab-e1e1-4f9b-b624-565b04d4891f"
   },
   "outputs": [
    {
     "data": {
      "text/html": [
       "<div>\n",
       "<style scoped>\n",
       "    .dataframe tbody tr th:only-of-type {\n",
       "        vertical-align: middle;\n",
       "    }\n",
       "\n",
       "    .dataframe tbody tr th {\n",
       "        vertical-align: top;\n",
       "    }\n",
       "\n",
       "    .dataframe thead th {\n",
       "        text-align: right;\n",
       "    }\n",
       "</style>\n",
       "<table border=\"1\" class=\"dataframe\">\n",
       "  <thead>\n",
       "    <tr style=\"text-align: right;\">\n",
       "      <th></th>\n",
       "      <th>Age</th>\n",
       "      <th>Gender</th>\n",
       "      <th>Total_Bilirubin</th>\n",
       "      <th>Direct_Bilirubin</th>\n",
       "      <th>Alkaline_Phosphotase</th>\n",
       "      <th>Alamine_Aminotransferase</th>\n",
       "      <th>Aspartate_Aminotransferase</th>\n",
       "      <th>Total_Protiens</th>\n",
       "      <th>Albumin</th>\n",
       "      <th>Albumin_and_Globulin_Ratio</th>\n",
       "      <th>Target</th>\n",
       "    </tr>\n",
       "  </thead>\n",
       "  <tbody>\n",
       "    <tr>\n",
       "      <th>0</th>\n",
       "      <td>65</td>\n",
       "      <td>0</td>\n",
       "      <td>0.7</td>\n",
       "      <td>0.1</td>\n",
       "      <td>187</td>\n",
       "      <td>16</td>\n",
       "      <td>18</td>\n",
       "      <td>6.8</td>\n",
       "      <td>3.3</td>\n",
       "      <td>0.90</td>\n",
       "      <td>1</td>\n",
       "    </tr>\n",
       "    <tr>\n",
       "      <th>1</th>\n",
       "      <td>62</td>\n",
       "      <td>1</td>\n",
       "      <td>10.9</td>\n",
       "      <td>5.5</td>\n",
       "      <td>699</td>\n",
       "      <td>64</td>\n",
       "      <td>100</td>\n",
       "      <td>7.5</td>\n",
       "      <td>3.2</td>\n",
       "      <td>0.74</td>\n",
       "      <td>1</td>\n",
       "    </tr>\n",
       "    <tr>\n",
       "      <th>2</th>\n",
       "      <td>62</td>\n",
       "      <td>1</td>\n",
       "      <td>7.3</td>\n",
       "      <td>4.1</td>\n",
       "      <td>490</td>\n",
       "      <td>60</td>\n",
       "      <td>68</td>\n",
       "      <td>7.0</td>\n",
       "      <td>3.3</td>\n",
       "      <td>0.89</td>\n",
       "      <td>1</td>\n",
       "    </tr>\n",
       "    <tr>\n",
       "      <th>3</th>\n",
       "      <td>58</td>\n",
       "      <td>1</td>\n",
       "      <td>1.0</td>\n",
       "      <td>0.4</td>\n",
       "      <td>182</td>\n",
       "      <td>14</td>\n",
       "      <td>20</td>\n",
       "      <td>6.8</td>\n",
       "      <td>3.4</td>\n",
       "      <td>1.00</td>\n",
       "      <td>1</td>\n",
       "    </tr>\n",
       "    <tr>\n",
       "      <th>4</th>\n",
       "      <td>72</td>\n",
       "      <td>1</td>\n",
       "      <td>3.9</td>\n",
       "      <td>2.0</td>\n",
       "      <td>195</td>\n",
       "      <td>27</td>\n",
       "      <td>59</td>\n",
       "      <td>7.3</td>\n",
       "      <td>2.4</td>\n",
       "      <td>0.40</td>\n",
       "      <td>1</td>\n",
       "    </tr>\n",
       "  </tbody>\n",
       "</table>\n",
       "</div>"
      ],
      "text/plain": [
       "   Age  Gender  Total_Bilirubin  Direct_Bilirubin  Alkaline_Phosphotase  \\\n",
       "0   65       0              0.7               0.1                   187   \n",
       "1   62       1             10.9               5.5                   699   \n",
       "2   62       1              7.3               4.1                   490   \n",
       "3   58       1              1.0               0.4                   182   \n",
       "4   72       1              3.9               2.0                   195   \n",
       "\n",
       "   Alamine_Aminotransferase  Aspartate_Aminotransferase  Total_Protiens  \\\n",
       "0                        16                          18             6.8   \n",
       "1                        64                         100             7.5   \n",
       "2                        60                          68             7.0   \n",
       "3                        14                          20             6.8   \n",
       "4                        27                          59             7.3   \n",
       "\n",
       "   Albumin  Albumin_and_Globulin_Ratio  Target  \n",
       "0      3.3                        0.90       1  \n",
       "1      3.2                        0.74       1  \n",
       "2      3.3                        0.89       1  \n",
       "3      3.4                        1.00       1  \n",
       "4      2.4                        0.40       1  "
      ]
     },
     "execution_count": 39,
     "metadata": {},
     "output_type": "execute_result"
    }
   ],
   "source": [
    "data.head()"
   ]
  },
  {
   "cell_type": "code",
   "execution_count": 40,
   "id": "11cac474",
   "metadata": {
    "colab": {
     "base_uri": "https://localhost:8080/"
    },
    "id": "11cac474",
    "outputId": "260dc163-8040-498d-fd75-e6f725afdcf9"
   },
   "outputs": [
    {
     "data": {
      "text/plain": [
       "1    428\n",
       "0    138\n",
       "Name: Gender, dtype: int64"
      ]
     },
     "execution_count": 40,
     "metadata": {},
     "output_type": "execute_result"
    }
   ],
   "source": [
    "data.Gender.value_counts()"
   ]
  },
  {
   "cell_type": "markdown",
   "id": "ea998ff1",
   "metadata": {
    "id": "ea998ff1"
   },
   "source": [
    "## Check for outliers"
   ]
  },
  {
   "cell_type": "code",
   "execution_count": 41,
   "id": "bc7f649f",
   "metadata": {
    "colab": {
     "base_uri": "https://localhost:8080/"
    },
    "id": "bc7f649f",
    "outputId": "f164b166-0545-4427-8a65-af8c798517ad"
   },
   "outputs": [
    {
     "data": {
      "text/plain": [
       "Index(['Age', 'Total_Bilirubin', 'Direct_Bilirubin', 'Alkaline_Phosphotase',\n",
       "       'Alamine_Aminotransferase', 'Aspartate_Aminotransferase',\n",
       "       'Total_Protiens', 'Albumin', 'Albumin_and_Globulin_Ratio'],\n",
       "      dtype='object')"
      ]
     },
     "execution_count": 41,
     "metadata": {},
     "output_type": "execute_result"
    }
   ],
   "source": [
    "num_data.columns[:-1]"
   ]
  },
  {
   "cell_type": "code",
   "execution_count": 42,
   "id": "71846bfc",
   "metadata": {
    "colab": {
     "base_uri": "https://localhost:8080/",
     "height": 793
    },
    "id": "71846bfc",
    "outputId": "b232fbed-3098-4c0a-a6c6-dbda470583f2",
    "scrolled": false
   },
   "outputs": [
    {
     "data": {
      "image/png": "[encoded data removed]",
      "text/plain": [
       "<Figure size 1000x1000 with 9 Axes>"
      ]
     },
     "metadata": {},
     "output_type": "display_data"
    }
   ],
   "source": [
    "# plt.figure(figsize=(10,10),facecolor='white')\n",
    "# plotnumber=1\n",
    "\n",
    "# for column in num_data.columns[:-1]:\n",
    "   \n",
    "#     plt.subplot(4,3,plotnumber)\n",
    "#     sns.boxplot(data[column],orient='h')\n",
    "# #     data[column].iplot(kind='box')\n",
    "#     plt.xlabel(column,fontsize=10)\n",
    "#     plt.xticks(fontsize=10)\n",
    "#     plotnumber+=1\n",
    "    \n",
    "# plt.tight_layout()"
   ]
  },
  {
   "cell_type": "markdown",
   "id": "Rca5BTQa7Gvk",
   "metadata": {
    "id": "Rca5BTQa7Gvk"
   },
   "source": [
    "\n",
    "\n",
    "*   as you can in the columns mentioned in the `cols` list are having most of the data outside the box plot , so applying the log transformation to avaoid data loss\n",
    "\n"
   ]
  },
  {
   "cell_type": "code",
   "execution_count": 43,
   "id": "77e343e8",
   "metadata": {
    "id": "77e343e8"
   },
   "outputs": [],
   "source": [
    "cols=['Total_Bilirubin','Direct_Bilirubin','Alkaline_Phosphotase','Alamine_Aminotransferase','Aspartate_Aminotransferase']"
   ]
  },
  {
   "cell_type": "code",
   "execution_count": 44,
   "id": "735f2ebb",
   "metadata": {
    "colab": {
     "base_uri": "https://localhost:8080/"
    },
    "id": "735f2ebb",
    "outputId": "511a10b2-b61d-4571-b62f-eb9680ea153f"
   },
   "outputs": [
    {
     "data": {
      "text/plain": [
       "(566, 11)"
      ]
     },
     "execution_count": 44,
     "metadata": {},
     "output_type": "execute_result"
    }
   ],
   "source": [
    "data.shape"
   ]
  },
  {
   "cell_type": "markdown",
   "id": "0derMxJo8KEE",
   "metadata": {
    "id": "0derMxJo8KEE"
   },
   "source": [
    "#log transformation"
   ]
  },
  {
   "cell_type": "code",
   "execution_count": 45,
   "id": "bd43279f",
   "metadata": {
    "id": "bd43279f"
   },
   "outputs": [],
   "source": [
    "for i in cols:\n",
    "    data[i]=np.log(data[i])"
   ]
  },
  {
   "cell_type": "code",
   "execution_count": 46,
   "id": "cb7f9ba8",
   "metadata": {
    "colab": {
     "base_uri": "https://localhost:8080/",
     "height": 793
    },
    "id": "cb7f9ba8",
    "outputId": "ebb5f012-0238-42ee-a637-05f8ca036a9d"
   },
   "outputs": [],
   "source": [
    "# plt.figure(figsize=(10,10),facecolor='white')\n",
    "# plotnumber=1\n",
    "\n",
    "# for column in num_data.columns[:-1]:\n",
    "   \n",
    "#     plt.subplot(4,3,plotnumber)\n",
    "#     sns.boxplot(data[column],orient='h')\n",
    "# #     data[column].iplot(kind='box')\n",
    "#     plt.xlabel(column,fontsize=10)\n",
    "#     plt.xticks(fontsize=10)\n",
    "#     plotnumber+=1\n",
    "    \n",
    "# plt.tight_layout()"
   ]
  },
  {
   "cell_type": "markdown",
   "id": "YwABl-Wq7lvq",
   "metadata": {
    "id": "YwABl-Wq7lvq"
   },
   "source": [
    "\n",
    "\n",
    "*   After applying log transformation the values came to better range but still have some values out of the box so going to impute those values with median of that column\n",
    "\n",
    "\n"
   ]
  },
  {
   "cell_type": "markdown",
   "id": "e8onSz6U8CVg",
   "metadata": {
    "id": "e8onSz6U8CVg"
   },
   "source": [
    "#median imputation"
   ]
  },
  {
   "cell_type": "code",
   "execution_count": 47,
   "id": "e1f72d69",
   "metadata": {
    "colab": {
     "base_uri": "https://localhost:8080/"
    },
    "id": "e1f72d69",
    "outputId": "512469cb-ebec-49c0-cbf8-44d2100d59ad"
   },
   "outputs": [
    {
     "data": {
      "text/plain": [
       "24"
      ]
     },
     "execution_count": 47,
     "metadata": {},
     "output_type": "execute_result"
    }
   ],
   "source": [
    "len(data.loc[data['Total_Bilirubin']>2.9])"
   ]
  },
  {
   "cell_type": "code",
   "execution_count": 48,
   "id": "678df69d",
   "metadata": {
    "id": "678df69d"
   },
   "outputs": [],
   "source": [
    "data.loc[data['Total_Bilirubin']>2.9,'Total_Bilirubin']=np.median(data['Total_Bilirubin'])"
   ]
  },
  {
   "cell_type": "code",
   "execution_count": 49,
   "id": "afac7549",
   "metadata": {
    "colab": {
     "base_uri": "https://localhost:8080/"
    },
    "id": "afac7549",
    "outputId": "b1a1ee42-f7ad-411f-8da7-067354402f32"
   },
   "outputs": [
    {
     "data": {
      "text/plain": [
       "34"
      ]
     },
     "execution_count": 49,
     "metadata": {},
     "output_type": "execute_result"
    }
   ],
   "source": [
    "len(data.loc[data['Alkaline_Phosphotase']>6.5])"
   ]
  },
  {
   "cell_type": "code",
   "execution_count": 50,
   "id": "a224ab89",
   "metadata": {
    "id": "a224ab89"
   },
   "outputs": [],
   "source": [
    "data.loc[data['Alkaline_Phosphotase']>6.5,'Alkaline_Phosphotase']=np.median(data['Alkaline_Phosphotase'])"
   ]
  },
  {
   "cell_type": "code",
   "execution_count": 51,
   "id": "0e5d234a",
   "metadata": {
    "colab": {
     "base_uri": "https://localhost:8080/"
    },
    "id": "0e5d234a",
    "outputId": "0c66cc8f-5060-4dca-93c1-fadb5fff139f"
   },
   "outputs": [
    {
     "data": {
      "text/plain": [
       "27"
      ]
     },
     "execution_count": 51,
     "metadata": {},
     "output_type": "execute_result"
    }
   ],
   "source": [
    "len(data.loc[data['Alamine_Aminotransferase']>5.5])"
   ]
  },
  {
   "cell_type": "code",
   "execution_count": 52,
   "id": "ec5cf109",
   "metadata": {
    "id": "ec5cf109"
   },
   "outputs": [],
   "source": [
    "data.loc[data['Alamine_Aminotransferase']>5.5,'Alamine_Aminotransferase']=np.median(data['Alamine_Aminotransferase'])"
   ]
  },
  {
   "cell_type": "code",
   "execution_count": 53,
   "id": "129845ae",
   "metadata": {
    "colab": {
     "base_uri": "https://localhost:8080/"
    },
    "id": "129845ae",
    "outputId": "519f4123-e49d-44fd-c8bb-aba6ef85d073"
   },
   "outputs": [
    {
     "data": {
      "text/plain": [
       "15"
      ]
     },
     "execution_count": 53,
     "metadata": {},
     "output_type": "execute_result"
    }
   ],
   "source": [
    "len(data.loc[data['Aspartate_Aminotransferase']>6.5])"
   ]
  },
  {
   "cell_type": "code",
   "execution_count": 54,
   "id": "b874fc0f",
   "metadata": {
    "id": "b874fc0f"
   },
   "outputs": [],
   "source": [
    "data.loc[data['Aspartate_Aminotransferase']>6.5,'Aspartate_Aminotransferase']=np.median(data['Aspartate_Aminotransferase'])"
   ]
  },
  {
   "cell_type": "code",
   "execution_count": 55,
   "id": "3d0e7aef",
   "metadata": {
    "colab": {
     "base_uri": "https://localhost:8080/"
    },
    "id": "3d0e7aef",
    "outputId": "68d0fc9b-9839-4b0d-a8a1-19a2e280345c"
   },
   "outputs": [
    {
     "data": {
      "text/plain": [
       "10"
      ]
     },
     "execution_count": 55,
     "metadata": {},
     "output_type": "execute_result"
    }
   ],
   "source": [
    "len(data.loc[data['Albumin_and_Globulin_Ratio']>1.7])"
   ]
  },
  {
   "cell_type": "code",
   "execution_count": 56,
   "id": "ba3f72bf",
   "metadata": {
    "id": "ba3f72bf"
   },
   "outputs": [],
   "source": [
    "data.loc[data['Albumin_and_Globulin_Ratio']>1.7,'Albumin_and_Globulin_Ratio']=np.median(data['Albumin_and_Globulin_Ratio'])"
   ]
  },
  {
   "cell_type": "code",
   "execution_count": 57,
   "id": "c426d33f",
   "metadata": {
    "colab": {
     "base_uri": "https://localhost:8080/",
     "height": 793
    },
    "id": "c426d33f",
    "outputId": "acb47b1c-cd39-49df-a36c-1335cfcd961f"
   },
   "outputs": [],
   "source": [
    "# plt.figure(figsize=(10,10),facecolor='white')\n",
    "# plotnumber=1\n",
    "\n",
    "# for column in num_data.columns[:-1]:\n",
    "   \n",
    "#     plt.subplot(4,3,plotnumber)\n",
    "#     sns.boxplot(data[column],orient='h')\n",
    "# #     data[column].iplot(kind='box')\n",
    "#     plt.xlabel(column,fontsize=10)\n",
    "#     plt.xticks(fontsize=10)\n",
    "#     plotnumber+=1\n",
    "    \n",
    "# plt.tight_layout()"
   ]
  },
  {
   "cell_type": "code",
   "execution_count": 58,
   "id": "18307584",
   "metadata": {
    "colab": {
     "base_uri": "https://localhost:8080/",
     "height": 270
    },
    "id": "18307584",
    "outputId": "a5c8c059-f621-4521-8258-d6b2a9f2dbbe"
   },
   "outputs": [
    {
     "data": {
      "text/html": [
       "<div>\n",
       "<style scoped>\n",
       "    .dataframe tbody tr th:only-of-type {\n",
       "        vertical-align: middle;\n",
       "    }\n",
       "\n",
       "    .dataframe tbody tr th {\n",
       "        vertical-align: top;\n",
       "    }\n",
       "\n",
       "    .dataframe thead th {\n",
       "        text-align: right;\n",
       "    }\n",
       "</style>\n",
       "<table border=\"1\" class=\"dataframe\">\n",
       "  <thead>\n",
       "    <tr style=\"text-align: right;\">\n",
       "      <th></th>\n",
       "      <th>Age</th>\n",
       "      <th>Gender</th>\n",
       "      <th>Total_Bilirubin</th>\n",
       "      <th>Direct_Bilirubin</th>\n",
       "      <th>Alkaline_Phosphotase</th>\n",
       "      <th>Alamine_Aminotransferase</th>\n",
       "      <th>Aspartate_Aminotransferase</th>\n",
       "      <th>Total_Protiens</th>\n",
       "      <th>Albumin</th>\n",
       "      <th>Albumin_and_Globulin_Ratio</th>\n",
       "      <th>Target</th>\n",
       "    </tr>\n",
       "  </thead>\n",
       "  <tbody>\n",
       "    <tr>\n",
       "      <th>0</th>\n",
       "      <td>65</td>\n",
       "      <td>0</td>\n",
       "      <td>-0.356675</td>\n",
       "      <td>-2.302585</td>\n",
       "      <td>5.231109</td>\n",
       "      <td>2.772589</td>\n",
       "      <td>2.890372</td>\n",
       "      <td>6.8</td>\n",
       "      <td>3.3</td>\n",
       "      <td>0.90</td>\n",
       "      <td>1</td>\n",
       "    </tr>\n",
       "    <tr>\n",
       "      <th>1</th>\n",
       "      <td>62</td>\n",
       "      <td>1</td>\n",
       "      <td>2.388763</td>\n",
       "      <td>1.704748</td>\n",
       "      <td>5.337538</td>\n",
       "      <td>4.158883</td>\n",
       "      <td>4.605170</td>\n",
       "      <td>7.5</td>\n",
       "      <td>3.2</td>\n",
       "      <td>0.74</td>\n",
       "      <td>1</td>\n",
       "    </tr>\n",
       "    <tr>\n",
       "      <th>2</th>\n",
       "      <td>62</td>\n",
       "      <td>1</td>\n",
       "      <td>1.987874</td>\n",
       "      <td>1.410987</td>\n",
       "      <td>6.194405</td>\n",
       "      <td>4.094345</td>\n",
       "      <td>4.219508</td>\n",
       "      <td>7.0</td>\n",
       "      <td>3.3</td>\n",
       "      <td>0.89</td>\n",
       "      <td>1</td>\n",
       "    </tr>\n",
       "    <tr>\n",
       "      <th>3</th>\n",
       "      <td>58</td>\n",
       "      <td>1</td>\n",
       "      <td>0.000000</td>\n",
       "      <td>-0.916291</td>\n",
       "      <td>5.204007</td>\n",
       "      <td>2.639057</td>\n",
       "      <td>2.995732</td>\n",
       "      <td>6.8</td>\n",
       "      <td>3.4</td>\n",
       "      <td>1.00</td>\n",
       "      <td>1</td>\n",
       "    </tr>\n",
       "    <tr>\n",
       "      <th>4</th>\n",
       "      <td>72</td>\n",
       "      <td>1</td>\n",
       "      <td>1.360977</td>\n",
       "      <td>0.693147</td>\n",
       "      <td>5.273000</td>\n",
       "      <td>3.295837</td>\n",
       "      <td>4.077537</td>\n",
       "      <td>7.3</td>\n",
       "      <td>2.4</td>\n",
       "      <td>0.40</td>\n",
       "      <td>1</td>\n",
       "    </tr>\n",
       "  </tbody>\n",
       "</table>\n",
       "</div>"
      ],
      "text/plain": [
       "   Age  Gender  Total_Bilirubin  Direct_Bilirubin  Alkaline_Phosphotase  \\\n",
       "0   65       0        -0.356675         -2.302585              5.231109   \n",
       "1   62       1         2.388763          1.704748              5.337538   \n",
       "2   62       1         1.987874          1.410987              6.194405   \n",
       "3   58       1         0.000000         -0.916291              5.204007   \n",
       "4   72       1         1.360977          0.693147              5.273000   \n",
       "\n",
       "   Alamine_Aminotransferase  Aspartate_Aminotransferase  Total_Protiens  \\\n",
       "0                  2.772589                    2.890372             6.8   \n",
       "1                  4.158883                    4.605170             7.5   \n",
       "2                  4.094345                    4.219508             7.0   \n",
       "3                  2.639057                    2.995732             6.8   \n",
       "4                  3.295837                    4.077537             7.3   \n",
       "\n",
       "   Albumin  Albumin_and_Globulin_Ratio  Target  \n",
       "0      3.3                        0.90       1  \n",
       "1      3.2                        0.74       1  \n",
       "2      3.3                        0.89       1  \n",
       "3      3.4                        1.00       1  \n",
       "4      2.4                        0.40       1  "
      ]
     },
     "execution_count": 58,
     "metadata": {},
     "output_type": "execute_result"
    }
   ],
   "source": [
    "data.head()"
   ]
  },
  {
   "cell_type": "markdown",
   "id": "3d341bb8",
   "metadata": {
    "id": "3d341bb8"
   },
   "source": [
    "# feature selection"
   ]
  },
  {
   "cell_type": "code",
   "execution_count": 59,
   "id": "c71a2c7b",
   "metadata": {
    "colab": {
     "base_uri": "https://localhost:8080/",
     "height": 1000
    },
    "id": "c71a2c7b",
    "outputId": "1710c175-ce07-4863-8070-2e1e79963554"
   },
   "outputs": [],
   "source": [
    "# plt.figure(figsize=(10, 10), facecolor='white')\n",
    "# sns.heatmap(data.iloc[:,:-1].corr(), annot=True,cmap='Blues')"
   ]
  },
  {
   "cell_type": "markdown",
   "id": "umLZiW7J8UpR",
   "metadata": {
    "id": "umLZiW7J8UpR"
   },
   "source": [
    "\n",
    "\n",
    "*   No corelation value going beyond 0.9 so keeping all the columns\n",
    "\n"
   ]
  },
  {
   "cell_type": "code",
   "execution_count": 60,
   "id": "a0749c48",
   "metadata": {
    "colab": {
     "base_uri": "https://localhost:8080/"
    },
    "id": "a0749c48",
    "outputId": "022423cc-8269-4787-b8e5-681ec8d3928c"
   },
   "outputs": [
    {
     "data": {
      "text/plain": [
       "Direct_Bilirubin             -0.325756\n",
       "Total_Bilirubin              -0.287960\n",
       "Aspartate_Aminotransferase   -0.287600\n",
       "Alamine_Aminotransferase     -0.257252\n",
       "Alkaline_Phosphotase         -0.184558\n",
       "Age                          -0.133821\n",
       "Gender                       -0.077396\n",
       "Total_Protiens                0.036443\n",
       "Albumin                       0.165273\n",
       "Albumin_and_Globulin_Ratio    0.190167\n",
       "dtype: float64"
      ]
     },
     "execution_count": 60,
     "metadata": {},
     "output_type": "execute_result"
    }
   ],
   "source": [
    "data.iloc[:,:-1].corrwith(data['Target']).sort_values()"
   ]
  },
  {
   "cell_type": "code",
   "execution_count": 61,
   "id": "be533198",
   "metadata": {
    "id": "be533198"
   },
   "outputs": [],
   "source": [
    "data['Target']=data['Target'].map({2:0,1:1})"
   ]
  },
  {
   "cell_type": "code",
   "execution_count": 62,
   "id": "2047a07d",
   "metadata": {
    "colab": {
     "base_uri": "https://localhost:8080/",
     "height": 270
    },
    "id": "2047a07d",
    "outputId": "f86c1e88-cc33-4313-e7f6-fc4b83074877"
   },
   "outputs": [
    {
     "data": {
      "text/html": [
       "<div>\n",
       "<style scoped>\n",
       "    .dataframe tbody tr th:only-of-type {\n",
       "        vertical-align: middle;\n",
       "    }\n",
       "\n",
       "    .dataframe tbody tr th {\n",
       "        vertical-align: top;\n",
       "    }\n",
       "\n",
       "    .dataframe thead th {\n",
       "        text-align: right;\n",
       "    }\n",
       "</style>\n",
       "<table border=\"1\" class=\"dataframe\">\n",
       "  <thead>\n",
       "    <tr style=\"text-align: right;\">\n",
       "      <th></th>\n",
       "      <th>Age</th>\n",
       "      <th>Gender</th>\n",
       "      <th>Total_Bilirubin</th>\n",
       "      <th>Direct_Bilirubin</th>\n",
       "      <th>Alkaline_Phosphotase</th>\n",
       "      <th>Alamine_Aminotransferase</th>\n",
       "      <th>Aspartate_Aminotransferase</th>\n",
       "      <th>Total_Protiens</th>\n",
       "      <th>Albumin</th>\n",
       "      <th>Albumin_and_Globulin_Ratio</th>\n",
       "      <th>Target</th>\n",
       "    </tr>\n",
       "  </thead>\n",
       "  <tbody>\n",
       "    <tr>\n",
       "      <th>0</th>\n",
       "      <td>65</td>\n",
       "      <td>0</td>\n",
       "      <td>-0.356675</td>\n",
       "      <td>-2.302585</td>\n",
       "      <td>5.231109</td>\n",
       "      <td>2.772589</td>\n",
       "      <td>2.890372</td>\n",
       "      <td>6.8</td>\n",
       "      <td>3.3</td>\n",
       "      <td>0.90</td>\n",
       "      <td>1</td>\n",
       "    </tr>\n",
       "    <tr>\n",
       "      <th>1</th>\n",
       "      <td>62</td>\n",
       "      <td>1</td>\n",
       "      <td>2.388763</td>\n",
       "      <td>1.704748</td>\n",
       "      <td>5.337538</td>\n",
       "      <td>4.158883</td>\n",
       "      <td>4.605170</td>\n",
       "      <td>7.5</td>\n",
       "      <td>3.2</td>\n",
       "      <td>0.74</td>\n",
       "      <td>1</td>\n",
       "    </tr>\n",
       "    <tr>\n",
       "      <th>2</th>\n",
       "      <td>62</td>\n",
       "      <td>1</td>\n",
       "      <td>1.987874</td>\n",
       "      <td>1.410987</td>\n",
       "      <td>6.194405</td>\n",
       "      <td>4.094345</td>\n",
       "      <td>4.219508</td>\n",
       "      <td>7.0</td>\n",
       "      <td>3.3</td>\n",
       "      <td>0.89</td>\n",
       "      <td>1</td>\n",
       "    </tr>\n",
       "    <tr>\n",
       "      <th>3</th>\n",
       "      <td>58</td>\n",
       "      <td>1</td>\n",
       "      <td>0.000000</td>\n",
       "      <td>-0.916291</td>\n",
       "      <td>5.204007</td>\n",
       "      <td>2.639057</td>\n",
       "      <td>2.995732</td>\n",
       "      <td>6.8</td>\n",
       "      <td>3.4</td>\n",
       "      <td>1.00</td>\n",
       "      <td>1</td>\n",
       "    </tr>\n",
       "    <tr>\n",
       "      <th>4</th>\n",
       "      <td>72</td>\n",
       "      <td>1</td>\n",
       "      <td>1.360977</td>\n",
       "      <td>0.693147</td>\n",
       "      <td>5.273000</td>\n",
       "      <td>3.295837</td>\n",
       "      <td>4.077537</td>\n",
       "      <td>7.3</td>\n",
       "      <td>2.4</td>\n",
       "      <td>0.40</td>\n",
       "      <td>1</td>\n",
       "    </tr>\n",
       "  </tbody>\n",
       "</table>\n",
       "</div>"
      ],
      "text/plain": [
       "   Age  Gender  Total_Bilirubin  Direct_Bilirubin  Alkaline_Phosphotase  \\\n",
       "0   65       0        -0.356675         -2.302585              5.231109   \n",
       "1   62       1         2.388763          1.704748              5.337538   \n",
       "2   62       1         1.987874          1.410987              6.194405   \n",
       "3   58       1         0.000000         -0.916291              5.204007   \n",
       "4   72       1         1.360977          0.693147              5.273000   \n",
       "\n",
       "   Alamine_Aminotransferase  Aspartate_Aminotransferase  Total_Protiens  \\\n",
       "0                  2.772589                    2.890372             6.8   \n",
       "1                  4.158883                    4.605170             7.5   \n",
       "2                  4.094345                    4.219508             7.0   \n",
       "3                  2.639057                    2.995732             6.8   \n",
       "4                  3.295837                    4.077537             7.3   \n",
       "\n",
       "   Albumin  Albumin_and_Globulin_Ratio  Target  \n",
       "0      3.3                        0.90       1  \n",
       "1      3.2                        0.74       1  \n",
       "2      3.3                        0.89       1  \n",
       "3      3.4                        1.00       1  \n",
       "4      2.4                        0.40       1  "
      ]
     },
     "execution_count": 62,
     "metadata": {},
     "output_type": "execute_result"
    }
   ],
   "source": [
    "data.head()"
   ]
  },
  {
   "cell_type": "code",
   "execution_count": 63,
   "id": "6952174b",
   "metadata": {
    "colab": {
     "base_uri": "https://localhost:8080/",
     "height": 250
    },
    "id": "6952174b",
    "outputId": "eec79d1d-687e-4125-cc63-df1d93aa17fe"
   },
   "outputs": [
    {
     "data": {
      "text/html": [
       "<div>\n",
       "<style scoped>\n",
       "    .dataframe tbody tr th:only-of-type {\n",
       "        vertical-align: middle;\n",
       "    }\n",
       "\n",
       "    .dataframe tbody tr th {\n",
       "        vertical-align: top;\n",
       "    }\n",
       "\n",
       "    .dataframe thead th {\n",
       "        text-align: right;\n",
       "    }\n",
       "</style>\n",
       "<table border=\"1\" class=\"dataframe\">\n",
       "  <thead>\n",
       "    <tr style=\"text-align: right;\">\n",
       "      <th></th>\n",
       "      <th>Age</th>\n",
       "      <th>Gender</th>\n",
       "      <th>Total_Bilirubin</th>\n",
       "      <th>Direct_Bilirubin</th>\n",
       "      <th>Alkaline_Phosphotase</th>\n",
       "      <th>Alamine_Aminotransferase</th>\n",
       "      <th>Aspartate_Aminotransferase</th>\n",
       "      <th>Total_Protiens</th>\n",
       "      <th>Albumin</th>\n",
       "      <th>Albumin_and_Globulin_Ratio</th>\n",
       "    </tr>\n",
       "  </thead>\n",
       "  <tbody>\n",
       "    <tr>\n",
       "      <th>0</th>\n",
       "      <td>65</td>\n",
       "      <td>0</td>\n",
       "      <td>-0.356675</td>\n",
       "      <td>-2.302585</td>\n",
       "      <td>5.231109</td>\n",
       "      <td>2.772589</td>\n",
       "      <td>2.890372</td>\n",
       "      <td>6.8</td>\n",
       "      <td>3.3</td>\n",
       "      <td>0.90</td>\n",
       "    </tr>\n",
       "    <tr>\n",
       "      <th>1</th>\n",
       "      <td>62</td>\n",
       "      <td>1</td>\n",
       "      <td>2.388763</td>\n",
       "      <td>1.704748</td>\n",
       "      <td>5.337538</td>\n",
       "      <td>4.158883</td>\n",
       "      <td>4.605170</td>\n",
       "      <td>7.5</td>\n",
       "      <td>3.2</td>\n",
       "      <td>0.74</td>\n",
       "    </tr>\n",
       "    <tr>\n",
       "      <th>2</th>\n",
       "      <td>62</td>\n",
       "      <td>1</td>\n",
       "      <td>1.987874</td>\n",
       "      <td>1.410987</td>\n",
       "      <td>6.194405</td>\n",
       "      <td>4.094345</td>\n",
       "      <td>4.219508</td>\n",
       "      <td>7.0</td>\n",
       "      <td>3.3</td>\n",
       "      <td>0.89</td>\n",
       "    </tr>\n",
       "    <tr>\n",
       "      <th>3</th>\n",
       "      <td>58</td>\n",
       "      <td>1</td>\n",
       "      <td>0.000000</td>\n",
       "      <td>-0.916291</td>\n",
       "      <td>5.204007</td>\n",
       "      <td>2.639057</td>\n",
       "      <td>2.995732</td>\n",
       "      <td>6.8</td>\n",
       "      <td>3.4</td>\n",
       "      <td>1.00</td>\n",
       "    </tr>\n",
       "    <tr>\n",
       "      <th>4</th>\n",
       "      <td>72</td>\n",
       "      <td>1</td>\n",
       "      <td>1.360977</td>\n",
       "      <td>0.693147</td>\n",
       "      <td>5.273000</td>\n",
       "      <td>3.295837</td>\n",
       "      <td>4.077537</td>\n",
       "      <td>7.3</td>\n",
       "      <td>2.4</td>\n",
       "      <td>0.40</td>\n",
       "    </tr>\n",
       "  </tbody>\n",
       "</table>\n",
       "</div>"
      ],
      "text/plain": [
       "   Age  Gender  Total_Bilirubin  Direct_Bilirubin  Alkaline_Phosphotase  \\\n",
       "0   65       0        -0.356675         -2.302585              5.231109   \n",
       "1   62       1         2.388763          1.704748              5.337538   \n",
       "2   62       1         1.987874          1.410987              6.194405   \n",
       "3   58       1         0.000000         -0.916291              5.204007   \n",
       "4   72       1         1.360977          0.693147              5.273000   \n",
       "\n",
       "   Alamine_Aminotransferase  Aspartate_Aminotransferase  Total_Protiens  \\\n",
       "0                  2.772589                    2.890372             6.8   \n",
       "1                  4.158883                    4.605170             7.5   \n",
       "2                  4.094345                    4.219508             7.0   \n",
       "3                  2.639057                    2.995732             6.8   \n",
       "4                  3.295837                    4.077537             7.3   \n",
       "\n",
       "   Albumin  Albumin_and_Globulin_Ratio  \n",
       "0      3.3                        0.90  \n",
       "1      3.2                        0.74  \n",
       "2      3.3                        0.89  \n",
       "3      3.4                        1.00  \n",
       "4      2.4                        0.40  "
      ]
     },
     "execution_count": 63,
     "metadata": {},
     "output_type": "execute_result"
    }
   ],
   "source": [
    "X=data.iloc[:,:-1]\n",
    "X.head()"
   ]
  },
  {
   "cell_type": "code",
   "execution_count": 64,
   "id": "e1925004",
   "metadata": {
    "colab": {
     "base_uri": "https://localhost:8080/"
    },
    "id": "e1925004",
    "outputId": "c19f9140-1f38-49c0-b5ef-52bd4e123e6d"
   },
   "outputs": [
    {
     "data": {
      "text/plain": [
       "0    1\n",
       "1    1\n",
       "2    1\n",
       "3    1\n",
       "4    1\n",
       "Name: Target, dtype: int64"
      ]
     },
     "execution_count": 64,
     "metadata": {},
     "output_type": "execute_result"
    }
   ],
   "source": [
    "y=data.Target\n",
    "y.head()"
   ]
  },
  {
   "cell_type": "code",
   "execution_count": 65,
   "id": "27b6eee3",
   "metadata": {
    "colab": {
     "base_uri": "https://localhost:8080/"
    },
    "id": "27b6eee3",
    "outputId": "c375b575-acf8-4997-b08a-14487bb69312"
   },
   "outputs": [
    {
     "data": {
      "text/plain": [
       "1    404\n",
       "0    162\n",
       "Name: Target, dtype: int64"
      ]
     },
     "execution_count": 65,
     "metadata": {},
     "output_type": "execute_result"
    }
   ],
   "source": [
    "y.value_counts()"
   ]
  },
  {
   "cell_type": "markdown",
   "id": "2b659560",
   "metadata": {
    "id": "2b659560"
   },
   "source": [
    "# balncing of data"
   ]
  },
  {
   "cell_type": "code",
   "execution_count": 66,
   "id": "bad56541",
   "metadata": {
    "id": "bad56541"
   },
   "outputs": [],
   "source": [
    "# Apply smote\n",
    "from imblearn.over_sampling import SMOTE,SVMSMOTE,ADASYN\n",
    "smote=SMOTE()"
   ]
  },
  {
   "cell_type": "code",
   "execution_count": 67,
   "id": "091f52ad",
   "metadata": {
    "id": "091f52ad"
   },
   "outputs": [],
   "source": [
    "X_smote, y_smote=smote.fit_resample(X, y)"
   ]
  },
  {
   "cell_type": "code",
   "execution_count": 68,
   "id": "7d403a06",
   "metadata": {
    "colab": {
     "base_uri": "https://localhost:8080/"
    },
    "id": "7d403a06",
    "outputId": "f1309d57-a767-4b16-92e4-dd4d00527012"
   },
   "outputs": [
    {
     "name": "stdout",
     "output_type": "stream",
     "text": [
      "actual classes Counter({1: 404, 0: 162})\n",
      "smote classes Counter({1: 404, 0: 404})\n"
     ]
    }
   ],
   "source": [
    "from collections import Counter\n",
    "print(\"actual classes\",Counter(y))\n",
    "print(\"smote classes\",Counter(y_smote))"
   ]
  },
  {
   "cell_type": "markdown",
   "id": "628fe89f",
   "metadata": {
    "id": "628fe89f"
   },
   "source": [
    "# train_test_split"
   ]
  },
  {
   "cell_type": "code",
   "execution_count": 69,
   "id": "GkHjQtl_NyqI",
   "metadata": {
    "id": "GkHjQtl_NyqI"
   },
   "outputs": [],
   "source": [
    "from sklearn.model_selection import train_test_split\n",
    "X_train, X_test, y_train, y_test=train_test_split(X_smote, y_smote, test_size=0.2, random_state=42)"
   ]
  },
  {
   "cell_type": "code",
   "execution_count": 70,
   "id": "D-bBa9SYN4cQ",
   "metadata": {
    "colab": {
     "base_uri": "https://localhost:8080/"
    },
    "id": "D-bBa9SYN4cQ",
    "outputId": "a1bc4dca-387f-42ae-d934-6e9ea3bf980f"
   },
   "outputs": [
    {
     "name": "stdout",
     "output_type": "stream",
     "text": [
      "(646, 10)\n",
      "(162, 10)\n",
      "(646,)\n",
      "(162,)\n"
     ]
    }
   ],
   "source": [
    "print(X_train.shape)\n",
    "print(X_test.shape)\n",
    "print(y_train.shape)\n",
    "print(y_test.shape)"
   ]
  },
  {
   "cell_type": "markdown",
   "id": "da67fbb8",
   "metadata": {
    "id": "da67fbb8"
   },
   "source": [
    "## Scaling of data"
   ]
  },
  {
   "cell_type": "code",
   "execution_count": 71,
   "id": "5a84871b",
   "metadata": {
    "id": "5a84871b"
   },
   "outputs": [],
   "source": [
    "from sklearn.preprocessing import MinMaxScaler ,StandardScaler\n",
    "scaler=MinMaxScaler()"
   ]
  },
  {
   "cell_type": "code",
   "execution_count": 72,
   "id": "bba4408b",
   "metadata": {
    "id": "bba4408b"
   },
   "outputs": [],
   "source": [
    "X_train_scaled=scaler.fit_transform(X_train)\n",
    "X_test_scaled=scaler.transform(X_test)"
   ]
  },
  {
   "cell_type": "code",
   "execution_count": 73,
   "id": "5380ea3e",
   "metadata": {
    "colab": {
     "base_uri": "https://localhost:8080/"
    },
    "id": "5380ea3e",
    "outputId": "80984c9b-0a89-45df-faf4-87d387af9749"
   },
   "outputs": [
    {
     "data": {
      "text/plain": [
       "1    404\n",
       "0    404\n",
       "Name: Target, dtype: int64"
      ]
     },
     "execution_count": 73,
     "metadata": {},
     "output_type": "execute_result"
    }
   ],
   "source": [
    "y_smote.value_counts()"
   ]
  },
  {
   "cell_type": "code",
   "execution_count": 74,
   "id": "f9022b5e",
   "metadata": {
    "colab": {
     "base_uri": "https://localhost:8080/"
    },
    "id": "f9022b5e",
    "outputId": "323087ba-1c87-478b-8f11-23ab9d5c3f19"
   },
   "outputs": [
    {
     "data": {
      "text/plain": [
       "(646, 646)"
      ]
     },
     "execution_count": 74,
     "metadata": {},
     "output_type": "execute_result"
    }
   ],
   "source": [
    "len(X_train_scaled),len(y_train)"
   ]
  },
  {
   "cell_type": "markdown",
   "id": "9a4cdfb6",
   "metadata": {
    "id": "9a4cdfb6"
   },
   "source": [
    "# Required functions for ROC MODEL"
   ]
  },
  {
   "cell_type": "code",
   "execution_count": 75,
   "id": "eb158603",
   "metadata": {
    "id": "eb158603"
   },
   "outputs": [],
   "source": [
    "        \n",
    "class Roc_Model:\n",
    "    \n",
    "    def __init__(self,model):\n",
    "        \n",
    "        self.model=model\n",
    "        \n",
    "        \n",
    "    def fit(self,x,y):\n",
    "        \n",
    "        self.model.fit(x,y)\n",
    "    \n",
    "    def predict_proba(self,x_test):\n",
    "    \n",
    "        self.__log_proba=self.model.predict_proba(X_test)\n",
    "           \n",
    "        self.__fpr,self.__tpr,self.__threshold=roc_curve(y_test,self.__log_proba[:,-1])\n",
    "        \n",
    "        return self.__log_proba\n",
    "    \n",
    "    def best_threshold(self):\n",
    " \n",
    "        gmeans=np.sqrt(self.__tpr*(1-self.__fpr))\n",
    "    \n",
    "        ix = np.argmax(gmeans)\n",
    "        \n",
    "        print('Best Threshold=%f, G-Mean=%.3f' % (self.__threshold[ix], gmeans[ix]))\n",
    "        \n",
    "        \n",
    "    def class_segregation(self):\n",
    "        \n",
    "        res=[]\n",
    "        threshold=float(input('enter the best thrshold value: '))\n",
    "        for i in self.__log_proba:\n",
    "            if i[1]>threshold:\n",
    "            \n",
    "                res.append(1)\n",
    "            else:\n",
    "                res.append(0)\n",
    "                \n",
    "        return res\n",
    "         \n",
    "    def roc_plot(self):\n",
    "        \n",
    "        auc_score=auc(self.__fpr,self.__tpr)\n",
    "        RocCurveDisplay(fpr=self.__fpr,tpr=self.__tpr,roc_auc=auc_score).plot()"
   ]
  },
  {
   "cell_type": "markdown",
   "id": "7bbbc35e",
   "metadata": {
    "id": "7bbbc35e"
   },
   "source": [
    "### Logistic Regression"
   ]
  },
  {
   "cell_type": "code",
   "execution_count": 76,
   "id": "4625d891",
   "metadata": {
    "id": "4625d891"
   },
   "outputs": [],
   "source": [
    "from sklearn.linear_model import LogisticRegression\n",
    "log_model=LogisticRegression()"
   ]
  },
  {
   "cell_type": "code",
   "execution_count": 77,
   "id": "8d78ec1a",
   "metadata": {},
   "outputs": [],
   "source": [
    "obj=Roc_Model(log_model)"
   ]
  },
  {
   "cell_type": "code",
   "execution_count": 78,
   "id": "92ccf6a1",
   "metadata": {},
   "outputs": [],
   "source": [
    "obj.fit(X_train,y_train)"
   ]
  },
  {
   "cell_type": "code",
   "execution_count": 79,
   "id": "a7340f88",
   "metadata": {},
   "outputs": [],
   "source": [
    "pred=obj.predict_proba(X_test)"
   ]
  },
  {
   "cell_type": "code",
   "execution_count": 80,
   "id": "a8b41148",
   "metadata": {},
   "outputs": [
    {
     "data": {
      "text/plain": [
       "array([[0.78512407, 0.21487593],\n",
       "       [0.82092331, 0.17907669],\n",
       "       [0.71451802, 0.28548198],\n",
       "       [0.20492449, 0.79507551],\n",
       "       [0.31074476, 0.68925524],\n",
       "       [0.65936292, 0.34063708],\n",
       "       [0.19624472, 0.80375528],\n",
       "       [0.64392896, 0.35607104],\n",
       "       [0.69257829, 0.30742171],\n",
       "       [0.66418837, 0.33581163],\n",
       "       [0.62959611, 0.37040389],\n",
       "       [0.12878558, 0.87121442],\n",
       "       [0.11223358, 0.88776642],\n",
       "       [0.77876694, 0.22123306],\n",
       "       [0.48832526, 0.51167474],\n",
       "       [0.07428452, 0.92571548],\n",
       "       [0.34685433, 0.65314567],\n",
       "       [0.28688873, 0.71311127],\n",
       "       [0.62075727, 0.37924273],\n",
       "       [0.03652612, 0.96347388],\n",
       "       [0.77093625, 0.22906375],\n",
       "       [0.6182886 , 0.3817114 ],\n",
       "       [0.79749634, 0.20250366],\n",
       "       [0.82411996, 0.17588004],\n",
       "       [0.08090391, 0.91909609],\n",
       "       [0.65446646, 0.34553354],\n",
       "       [0.64160709, 0.35839291],\n",
       "       [0.54704859, 0.45295141],\n",
       "       [0.75374937, 0.24625063],\n",
       "       [0.10703721, 0.89296279],\n",
       "       [0.54487744, 0.45512256],\n",
       "       [0.81192092, 0.18807908],\n",
       "       [0.21934865, 0.78065135],\n",
       "       [0.4687228 , 0.5312772 ],\n",
       "       [0.68423606, 0.31576394],\n",
       "       [0.74160423, 0.25839577],\n",
       "       [0.20182167, 0.79817833],\n",
       "       [0.07381536, 0.92618464],\n",
       "       [0.68248335, 0.31751665],\n",
       "       [0.39328317, 0.60671683],\n",
       "       [0.29400842, 0.70599158],\n",
       "       [0.81862314, 0.18137686],\n",
       "       [0.6665228 , 0.3334772 ],\n",
       "       [0.20141702, 0.79858298],\n",
       "       [0.8238788 , 0.1761212 ],\n",
       "       [0.5989865 , 0.4010135 ],\n",
       "       [0.13541017, 0.86458983],\n",
       "       [0.22726611, 0.77273389],\n",
       "       [0.68263187, 0.31736813],\n",
       "       [0.76686404, 0.23313596],\n",
       "       [0.72649635, 0.27350365],\n",
       "       [0.29756084, 0.70243916],\n",
       "       [0.70575888, 0.29424112],\n",
       "       [0.59033698, 0.40966302],\n",
       "       [0.6495614 , 0.3504386 ],\n",
       "       [0.02489023, 0.97510977],\n",
       "       [0.4137822 , 0.5862178 ],\n",
       "       [0.09535441, 0.90464559],\n",
       "       [0.46447537, 0.53552463],\n",
       "       [0.67213186, 0.32786814],\n",
       "       [0.26265278, 0.73734722],\n",
       "       [0.78866347, 0.21133653],\n",
       "       [0.19125583, 0.80874417],\n",
       "       [0.04819173, 0.95180827],\n",
       "       [0.40080802, 0.59919198],\n",
       "       [0.2430111 , 0.7569889 ],\n",
       "       [0.63568947, 0.36431053],\n",
       "       [0.1085244 , 0.8914756 ],\n",
       "       [0.66933781, 0.33066219],\n",
       "       [0.13557611, 0.86442389],\n",
       "       [0.23199746, 0.76800254],\n",
       "       [0.66582237, 0.33417763],\n",
       "       [0.69453651, 0.30546349],\n",
       "       [0.47026908, 0.52973092],\n",
       "       [0.81436332, 0.18563668],\n",
       "       [0.32200779, 0.67799221],\n",
       "       [0.7265568 , 0.2734432 ],\n",
       "       [0.6805184 , 0.3194816 ],\n",
       "       [0.13882195, 0.86117805],\n",
       "       [0.42537014, 0.57462986],\n",
       "       [0.30399424, 0.69600576],\n",
       "       [0.64201863, 0.35798137],\n",
       "       [0.08900721, 0.91099279],\n",
       "       [0.39798744, 0.60201256],\n",
       "       [0.84085263, 0.15914737],\n",
       "       [0.45477506, 0.54522494],\n",
       "       [0.01582337, 0.98417663],\n",
       "       [0.48819081, 0.51180919],\n",
       "       [0.73058133, 0.26941867],\n",
       "       [0.36793853, 0.63206147],\n",
       "       [0.09526084, 0.90473916],\n",
       "       [0.772666  , 0.227334  ],\n",
       "       [0.64944968, 0.35055032],\n",
       "       [0.81031683, 0.18968317],\n",
       "       [0.86734301, 0.13265699],\n",
       "       [0.60859463, 0.39140537],\n",
       "       [0.28867497, 0.71132503],\n",
       "       [0.74184069, 0.25815931],\n",
       "       [0.75202296, 0.24797704],\n",
       "       [0.42740786, 0.57259214],\n",
       "       [0.84420097, 0.15579903],\n",
       "       [0.45868519, 0.54131481],\n",
       "       [0.69126476, 0.30873524],\n",
       "       [0.30511658, 0.69488342],\n",
       "       [0.50361156, 0.49638844],\n",
       "       [0.51525576, 0.48474424],\n",
       "       [0.69131945, 0.30868055],\n",
       "       [0.60295622, 0.39704378],\n",
       "       [0.67084374, 0.32915626],\n",
       "       [0.65992935, 0.34007065],\n",
       "       [0.77451919, 0.22548081],\n",
       "       [0.58428018, 0.41571982],\n",
       "       [0.82513454, 0.17486546],\n",
       "       [0.53023678, 0.46976322],\n",
       "       [0.62592117, 0.37407883],\n",
       "       [0.87205827, 0.12794173],\n",
       "       [0.04022475, 0.95977525],\n",
       "       [0.50131925, 0.49868075],\n",
       "       [0.62873179, 0.37126821],\n",
       "       [0.12332587, 0.87667413],\n",
       "       [0.68048568, 0.31951432],\n",
       "       [0.10102529, 0.89897471],\n",
       "       [0.70548147, 0.29451853],\n",
       "       [0.15286411, 0.84713589],\n",
       "       [0.02770567, 0.97229433],\n",
       "       [0.1987335 , 0.8012665 ],\n",
       "       [0.33575203, 0.66424797],\n",
       "       [0.68873993, 0.31126007],\n",
       "       [0.66870722, 0.33129278],\n",
       "       [0.57580757, 0.42419243],\n",
       "       [0.62427413, 0.37572587],\n",
       "       [0.24754193, 0.75245807],\n",
       "       [0.72185146, 0.27814854],\n",
       "       [0.56514301, 0.43485699],\n",
       "       [0.69950324, 0.30049676],\n",
       "       [0.04331349, 0.95668651],\n",
       "       [0.61304648, 0.38695352],\n",
       "       [0.06040336, 0.93959664],\n",
       "       [0.72164084, 0.27835916],\n",
       "       [0.70585484, 0.29414516],\n",
       "       [0.43687952, 0.56312048],\n",
       "       [0.07384118, 0.92615882],\n",
       "       [0.71943003, 0.28056997],\n",
       "       [0.60858271, 0.39141729],\n",
       "       [0.59034676, 0.40965324],\n",
       "       [0.81207031, 0.18792969],\n",
       "       [0.83979225, 0.16020775],\n",
       "       [0.20374749, 0.79625251],\n",
       "       [0.45610932, 0.54389068],\n",
       "       [0.67483135, 0.32516865],\n",
       "       [0.28202856, 0.71797144],\n",
       "       [0.52477415, 0.47522585],\n",
       "       [0.02328015, 0.97671985],\n",
       "       [0.05397202, 0.94602798],\n",
       "       [0.23421159, 0.76578841],\n",
       "       [0.68538707, 0.31461293],\n",
       "       [0.60464642, 0.39535358],\n",
       "       [0.57538483, 0.42461517],\n",
       "       [0.69077819, 0.30922181],\n",
       "       [0.5878129 , 0.4121871 ],\n",
       "       [0.50728223, 0.49271777],\n",
       "       [0.18053149, 0.81946851]])"
      ]
     },
     "execution_count": 80,
     "metadata": {},
     "output_type": "execute_result"
    }
   ],
   "source": [
    "pred"
   ]
  },
  {
   "cell_type": "code",
   "execution_count": 81,
   "id": "4a85500b",
   "metadata": {},
   "outputs": [
    {
     "name": "stdout",
     "output_type": "stream",
     "text": [
      "Best Threshold=0.531277, G-Mean=0.719\n"
     ]
    }
   ],
   "source": [
    "thr=obj.best_threshold()"
   ]
  },
  {
   "cell_type": "code",
   "execution_count": 82,
   "id": "cf257361",
   "metadata": {},
   "outputs": [
    {
     "name": "stdout",
     "output_type": "stream",
     "text": [
      "enter the best thrshold value: 0.531277\n"
     ]
    }
   ],
   "source": [
    "pred=obj.class_segregation()"
   ]
  },
  {
   "cell_type": "code",
   "execution_count": 83,
   "id": "d470b211",
   "metadata": {},
   "outputs": [
    {
     "name": "stdout",
     "output_type": "stream",
     "text": [
      "[[69 17]\n",
      " [27 49]]\n",
      "              precision    recall  f1-score   support\n",
      "\n",
      "           0       0.72      0.80      0.76        86\n",
      "           1       0.74      0.64      0.69        76\n",
      "\n",
      "    accuracy                           0.73       162\n",
      "   macro avg       0.73      0.72      0.72       162\n",
      "weighted avg       0.73      0.73      0.73       162\n",
      "\n"
     ]
    }
   ],
   "source": [
    "print(confusion_matrix(y_test,pred))\n",
    "print(classification_report(y_test,pred))"
   ]
  },
  {
   "cell_type": "code",
   "execution_count": 84,
   "id": "e7b9ce2e",
   "metadata": {
    "scrolled": false
   },
   "outputs": [
    {
     "data": {
      "image/png": "[encoded data removed]",
      "text/plain": [
       "<Figure size 640x480 with 1 Axes>"
      ]
     },
     "metadata": {},
     "output_type": "display_data"
    }
   ],
   "source": [
    "plot=obj.roc_plot()"
   ]
  },
  {
   "cell_type": "markdown",
   "id": "b6fb083b",
   "metadata": {
    "id": "b6fb083b"
   },
   "source": [
    "### KNN Classifier"
   ]
  },
  {
   "cell_type": "code",
   "execution_count": 85,
   "id": "24f95d51",
   "metadata": {
    "id": "24f95d51",
    "scrolled": true
   },
   "outputs": [],
   "source": [
    "from sklearn.neighbors import KNeighborsClassifier\n",
    "knn_model=KNeighborsClassifier()\n"
   ]
  },
  {
   "cell_type": "code",
   "execution_count": 86,
   "id": "5b41af16",
   "metadata": {},
   "outputs": [],
   "source": [
    "obj2=Roc_Model(knn_model)"
   ]
  },
  {
   "cell_type": "code",
   "execution_count": 87,
   "id": "9ccddc47",
   "metadata": {},
   "outputs": [],
   "source": [
    "obj2.fit(X_train,y_train)"
   ]
  },
  {
   "cell_type": "code",
   "execution_count": 146,
   "id": "31a8ead3",
   "metadata": {
    "scrolled": true
   },
   "outputs": [],
   "source": [
    "pred=obj2.predict_proba(X_test)"
   ]
  },
  {
   "cell_type": "code",
   "execution_count": 147,
   "id": "189697ea",
   "metadata": {
    "collapsed": true
   },
   "outputs": [
    {
     "data": {
      "text/plain": [
       "array([[0.8, 0.2],\n",
       "       [0.6, 0.4],\n",
       "       [0.8, 0.2],\n",
       "       [0. , 1. ],\n",
       "       [0. , 1. ],\n",
       "       [0.6, 0.4],\n",
       "       [0.2, 0.8],\n",
       "       [0.8, 0.2],\n",
       "       [1. , 0. ],\n",
       "       [1. , 0. ],\n",
       "       [0. , 1. ],\n",
       "       [0. , 1. ],\n",
       "       [0. , 1. ],\n",
       "       [0.8, 0.2],\n",
       "       [0.6, 0.4],\n",
       "       [0. , 1. ],\n",
       "       [0.2, 0.8],\n",
       "       [0.6, 0.4],\n",
       "       [1. , 0. ],\n",
       "       [0. , 1. ],\n",
       "       [0.8, 0.2],\n",
       "       [0. , 1. ],\n",
       "       [0.8, 0.2],\n",
       "       [0.6, 0.4],\n",
       "       [0. , 1. ],\n",
       "       [0.2, 0.8],\n",
       "       [0.4, 0.6],\n",
       "       [0.6, 0.4],\n",
       "       [0.8, 0.2],\n",
       "       [0. , 1. ],\n",
       "       [0.8, 0.2],\n",
       "       [1. , 0. ],\n",
       "       [0.2, 0.8],\n",
       "       [1. , 0. ],\n",
       "       [0.6, 0.4],\n",
       "       [1. , 0. ],\n",
       "       [0.4, 0.6],\n",
       "       [0. , 1. ],\n",
       "       [1. , 0. ],\n",
       "       [0. , 1. ],\n",
       "       [0.2, 0.8],\n",
       "       [0.8, 0.2],\n",
       "       [0.8, 0.2],\n",
       "       [0.8, 0.2],\n",
       "       [0.8, 0.2],\n",
       "       [0.8, 0.2],\n",
       "       [0. , 1. ],\n",
       "       [0.8, 0.2],\n",
       "       [1. , 0. ],\n",
       "       [0.8, 0.2],\n",
       "       [0.8, 0.2],\n",
       "       [0.6, 0.4],\n",
       "       [0.6, 0.4],\n",
       "       [1. , 0. ],\n",
       "       [1. , 0. ],\n",
       "       [0. , 1. ],\n",
       "       [0.6, 0.4],\n",
       "       [0. , 1. ],\n",
       "       [1. , 0. ],\n",
       "       [0.6, 0.4],\n",
       "       [0.6, 0.4],\n",
       "       [1. , 0. ],\n",
       "       [0.6, 0.4],\n",
       "       [0. , 1. ],\n",
       "       [1. , 0. ],\n",
       "       [0. , 1. ],\n",
       "       [1. , 0. ],\n",
       "       [0. , 1. ],\n",
       "       [0.8, 0.2],\n",
       "       [0. , 1. ],\n",
       "       [0.8, 0.2],\n",
       "       [1. , 0. ],\n",
       "       [0.8, 0.2],\n",
       "       [0.8, 0.2],\n",
       "       [1. , 0. ],\n",
       "       [0.8, 0.2],\n",
       "       [1. , 0. ],\n",
       "       [0.8, 0.2],\n",
       "       [0. , 1. ],\n",
       "       [0. , 1. ],\n",
       "       [0.4, 0.6],\n",
       "       [0.8, 0.2],\n",
       "       [0. , 1. ],\n",
       "       [0.2, 0.8],\n",
       "       [0.6, 0.4],\n",
       "       [1. , 0. ],\n",
       "       [0. , 1. ],\n",
       "       [1. , 0. ],\n",
       "       [0.8, 0.2],\n",
       "       [1. , 0. ],\n",
       "       [0. , 1. ],\n",
       "       [0.2, 0.8],\n",
       "       [0.6, 0.4],\n",
       "       [0.4, 0.6],\n",
       "       [1. , 0. ],\n",
       "       [1. , 0. ],\n",
       "       [0.8, 0.2],\n",
       "       [0.8, 0.2],\n",
       "       [0.8, 0.2],\n",
       "       [0.8, 0.2],\n",
       "       [1. , 0. ],\n",
       "       [0. , 1. ],\n",
       "       [1. , 0. ],\n",
       "       [0.8, 0.2],\n",
       "       [0.8, 0.2],\n",
       "       [0.8, 0.2],\n",
       "       [0.8, 0.2],\n",
       "       [0.8, 0.2],\n",
       "       [0.2, 0.8],\n",
       "       [1. , 0. ],\n",
       "       [0.8, 0.2],\n",
       "       [0.8, 0.2],\n",
       "       [0.6, 0.4],\n",
       "       [0.6, 0.4],\n",
       "       [0.6, 0.4],\n",
       "       [1. , 0. ],\n",
       "       [0. , 1. ],\n",
       "       [0.2, 0.8],\n",
       "       [0.8, 0.2],\n",
       "       [0. , 1. ],\n",
       "       [0.4, 0.6],\n",
       "       [0. , 1. ],\n",
       "       [1. , 0. ],\n",
       "       [0. , 1. ],\n",
       "       [0. , 1. ],\n",
       "       [0.4, 0.6],\n",
       "       [0.2, 0.8],\n",
       "       [1. , 0. ],\n",
       "       [0.4, 0.6],\n",
       "       [0.4, 0.6],\n",
       "       [1. , 0. ],\n",
       "       [0. , 1. ],\n",
       "       [0.8, 0.2],\n",
       "       [0.8, 0.2],\n",
       "       [0.6, 0.4],\n",
       "       [1. , 0. ],\n",
       "       [0.8, 0.2],\n",
       "       [0. , 1. ],\n",
       "       [0.6, 0.4],\n",
       "       [1. , 0. ],\n",
       "       [1. , 0. ],\n",
       "       [0. , 1. ],\n",
       "       [0.8, 0.2],\n",
       "       [0.8, 0.2],\n",
       "       [0.8, 0.2],\n",
       "       [1. , 0. ],\n",
       "       [0.8, 0.2],\n",
       "       [1. , 0. ],\n",
       "       [0.8, 0.2],\n",
       "       [1. , 0. ],\n",
       "       [0. , 1. ],\n",
       "       [1. , 0. ],\n",
       "       [0. , 1. ],\n",
       "       [0. , 1. ],\n",
       "       [0.8, 0.2],\n",
       "       [1. , 0. ],\n",
       "       [1. , 0. ],\n",
       "       [0.8, 0.2],\n",
       "       [0.6, 0.4],\n",
       "       [0.8, 0.2],\n",
       "       [1. , 0. ],\n",
       "       [0.6, 0.4]])"
      ]
     },
     "execution_count": 147,
     "metadata": {},
     "output_type": "execute_result"
    }
   ],
   "source": [
    "pred"
   ]
  },
  {
   "cell_type": "code",
   "execution_count": 148,
   "id": "9ce9e50b",
   "metadata": {},
   "outputs": [
    {
     "name": "stdout",
     "output_type": "stream",
     "text": [
      "Best Threshold=0.600000, G-Mean=0.779\n"
     ]
    }
   ],
   "source": [
    "thrs2=obj2.best_threshold()"
   ]
  },
  {
   "cell_type": "code",
   "execution_count": 149,
   "id": "dacadc34",
   "metadata": {},
   "outputs": [
    {
     "name": "stdout",
     "output_type": "stream",
     "text": [
      "enter the best thrshold value: 0.60\n",
      "metrics on test data \n",
      "\n",
      "confusion matrix: \n",
      " [[82  4]\n",
      " [34 42]]\n",
      "classification report: \n",
      "               precision    recall  f1-score   support\n",
      "\n",
      "           0       0.71      0.95      0.81        86\n",
      "           1       0.91      0.55      0.69        76\n",
      "\n",
      "    accuracy                           0.77       162\n",
      "   macro avg       0.81      0.75      0.75       162\n",
      "weighted avg       0.80      0.77      0.75       162\n",
      "\n"
     ]
    }
   ],
   "source": [
    "obj2.results()"
   ]
  },
  {
   "cell_type": "code",
   "execution_count": 150,
   "id": "4e2f2174",
   "metadata": {},
   "outputs": [
    {
     "data": {
      "image/png": "[encoded data removed]",
      "text/plain": [
       "<Figure size 640x480 with 1 Axes>"
      ]
     },
     "metadata": {},
     "output_type": "display_data"
    }
   ],
   "source": [
    "obj2.roc_plot()"
   ]
  },
  {
   "cell_type": "markdown",
   "id": "07a80f87",
   "metadata": {
    "id": "07a80f87"
   },
   "source": [
    "# Random forest"
   ]
  },
  {
   "cell_type": "code",
   "execution_count": 89,
   "id": "fbb87916",
   "metadata": {
    "id": "fbb87916"
   },
   "outputs": [],
   "source": [
    "from sklearn.ensemble import RandomForestClassifier"
   ]
  },
  {
   "cell_type": "code",
   "execution_count": 90,
   "id": "8df7ca69",
   "metadata": {
    "id": "8df7ca69"
   },
   "outputs": [],
   "source": [
    "rf_model=RandomForestClassifier()"
   ]
  },
  {
   "cell_type": "code",
   "execution_count": 91,
   "id": "46884dfc",
   "metadata": {},
   "outputs": [],
   "source": [
    "obj3=Roc_Model(rf_model)"
   ]
  },
  {
   "cell_type": "code",
   "execution_count": 92,
   "id": "e8d87864",
   "metadata": {},
   "outputs": [
    {
     "name": "stdout",
     "output_type": "stream",
     "text": [
      "Best Threshold=0.490000, G-Mean=0.798\n"
     ]
    }
   ],
   "source": [
    "obj3.best_threshold()"
   ]
  },
  {
   "cell_type": "code",
   "execution_count": 93,
   "id": "00242316",
   "metadata": {},
   "outputs": [
    {
     "name": "stdout",
     "output_type": "stream",
     "text": [
      "enter the best thrshold value: 0.49\n",
      "metrics on test data \n",
      "\n",
      "confusion matrix: \n",
      " [[67 19]\n",
      " [15 61]]\n",
      "classification report: \n",
      "               precision    recall  f1-score   support\n",
      "\n",
      "           0       0.82      0.78      0.80        86\n",
      "           1       0.76      0.80      0.78        76\n",
      "\n",
      "    accuracy                           0.79       162\n",
      "   macro avg       0.79      0.79      0.79       162\n",
      "weighted avg       0.79      0.79      0.79       162\n",
      "\n"
     ]
    }
   ],
   "source": [
    "obj3.predict()"
   ]
  },
  {
   "cell_type": "code",
   "execution_count": 94,
   "id": "30a251d0",
   "metadata": {},
   "outputs": [
    {
     "data": {
      "image/png": "[encoded data removed]",
      "text/plain": [
       "<Figure size 640x480 with 1 Axes>"
      ]
     },
     "metadata": {},
     "output_type": "display_data"
    }
   ],
   "source": [
    "obj3.roc_plot()"
   ]
  },
  {
   "cell_type": "markdown",
   "id": "94ea196d",
   "metadata": {
    "id": "94ea196d"
   },
   "source": [
    "# Gradient boosting"
   ]
  },
  {
   "cell_type": "code",
   "execution_count": 95,
   "id": "c7b5f69e",
   "metadata": {
    "id": "c7b5f69e"
   },
   "outputs": [],
   "source": [
    "from sklearn.ensemble import GradientBoostingClassifier"
   ]
  },
  {
   "cell_type": "code",
   "execution_count": 96,
   "id": "704ab6a5",
   "metadata": {
    "id": "704ab6a5"
   },
   "outputs": [],
   "source": [
    "gb_model=GradientBoostingClassifier()"
   ]
  },
  {
   "cell_type": "code",
   "execution_count": 97,
   "id": "8e135337",
   "metadata": {},
   "outputs": [],
   "source": [
    "obj4=Roc_Model(gb_model)"
   ]
  },
  {
   "cell_type": "code",
   "execution_count": 98,
   "id": "e57d232a",
   "metadata": {},
   "outputs": [
    {
     "name": "stdout",
     "output_type": "stream",
     "text": [
      "Best Threshold=0.633244, G-Mean=0.769\n"
     ]
    }
   ],
   "source": [
    "obj4.best_threshold()"
   ]
  },
  {
   "cell_type": "code",
   "execution_count": 99,
   "id": "357af295",
   "metadata": {},
   "outputs": [
    {
     "name": "stdout",
     "output_type": "stream",
     "text": [
      "enter the best thrshold value: 0.633244\n",
      "metrics on test data \n",
      "\n",
      "confusion matrix: \n",
      " [[73 13]\n",
      " [23 53]]\n",
      "classification report: \n",
      "               precision    recall  f1-score   support\n",
      "\n",
      "           0       0.76      0.85      0.80        86\n",
      "           1       0.80      0.70      0.75        76\n",
      "\n",
      "    accuracy                           0.78       162\n",
      "   macro avg       0.78      0.77      0.77       162\n",
      "weighted avg       0.78      0.78      0.78       162\n",
      "\n"
     ]
    }
   ],
   "source": [
    "obj4.predict()"
   ]
  },
  {
   "cell_type": "code",
   "execution_count": 100,
   "id": "ee2d7a2e",
   "metadata": {},
   "outputs": [
    {
     "data": {
      "image/png": "[encoded data removed]",
      "text/plain": [
       "<Figure size 640x480 with 1 Axes>"
      ]
     },
     "metadata": {},
     "output_type": "display_data"
    }
   ],
   "source": [
    "obj4.roc_plot()"
   ]
  },
  {
   "cell_type": "markdown",
   "id": "46b1cdda",
   "metadata": {
    "id": "46b1cdda"
   },
   "source": [
    "# XGB CLASSIFIER"
   ]
  },
  {
   "cell_type": "code",
   "execution_count": 101,
   "id": "749ef008",
   "metadata": {
    "id": "749ef008"
   },
   "outputs": [],
   "source": [
    "from xgboost import XGBClassifier"
   ]
  },
  {
   "cell_type": "code",
   "execution_count": 102,
   "id": "3fd1f354",
   "metadata": {
    "id": "3fd1f354"
   },
   "outputs": [],
   "source": [
    "xgb_model=XGBClassifier()"
   ]
  },
  {
   "cell_type": "code",
   "execution_count": 103,
   "id": "14050f01",
   "metadata": {},
   "outputs": [],
   "source": [
    "obj5=Roc_Model(xgb_model)"
   ]
  },
  {
   "cell_type": "code",
   "execution_count": 104,
   "id": "f4e8ba5e",
   "metadata": {},
   "outputs": [
    {
     "name": "stdout",
     "output_type": "stream",
     "text": [
      "Best Threshold=0.709612, G-Mean=0.815\n"
     ]
    }
   ],
   "source": [
    "obj5.best_threshold()"
   ]
  },
  {
   "cell_type": "code",
   "execution_count": 105,
   "id": "98eed111",
   "metadata": {},
   "outputs": [
    {
     "name": "stdout",
     "output_type": "stream",
     "text": [
      "enter the best thrshold value: 0.709612\n",
      "metrics on test data \n",
      "\n",
      "confusion matrix: \n",
      " [[70 16]\n",
      " [15 61]]\n",
      "classification report: \n",
      "               precision    recall  f1-score   support\n",
      "\n",
      "           0       0.82      0.81      0.82        86\n",
      "           1       0.79      0.80      0.80        76\n",
      "\n",
      "    accuracy                           0.81       162\n",
      "   macro avg       0.81      0.81      0.81       162\n",
      "weighted avg       0.81      0.81      0.81       162\n",
      "\n"
     ]
    }
   ],
   "source": [
    "obj5.predict()"
   ]
  },
  {
   "cell_type": "markdown",
   "id": "88764f6f",
   "metadata": {
    "id": "88764f6f"
   },
   "source": [
    "# Bagging clasifier"
   ]
  },
  {
   "cell_type": "code",
   "execution_count": 106,
   "id": "842b304f",
   "metadata": {},
   "outputs": [],
   "source": [
    "from sklearn.svm import SVC"
   ]
  },
  {
   "cell_type": "code",
   "execution_count": 107,
   "id": "cb03c6e7",
   "metadata": {},
   "outputs": [],
   "source": [
    "sv_model=SVC()"
   ]
  },
  {
   "cell_type": "code",
   "execution_count": 108,
   "id": "1dd2d206",
   "metadata": {
    "id": "1dd2d206"
   },
   "outputs": [],
   "source": [
    "from sklearn.ensemble import BaggingClassifier"
   ]
  },
  {
   "cell_type": "code",
   "execution_count": 109,
   "id": "248ec79a",
   "metadata": {
    "id": "248ec79a"
   },
   "outputs": [],
   "source": [
    "bag_model=BaggingClassifier(estimator=sv_model)"
   ]
  },
  {
   "cell_type": "code",
   "execution_count": 110,
   "id": "efd51fa1",
   "metadata": {},
   "outputs": [],
   "source": [
    "obj6=Roc_Model(bag_model)"
   ]
  },
  {
   "cell_type": "code",
   "execution_count": 111,
   "id": "580c75df",
   "metadata": {},
   "outputs": [
    {
     "name": "stdout",
     "output_type": "stream",
     "text": [
      "Best Threshold=0.400000, G-Mean=0.712\n"
     ]
    }
   ],
   "source": [
    "obj6.best_threshold()"
   ]
  },
  {
   "cell_type": "code",
   "execution_count": 112,
   "id": "5e476722",
   "metadata": {},
   "outputs": [
    {
     "name": "stdout",
     "output_type": "stream",
     "text": [
      "enter the best thrshold value: 0.4\n",
      "metrics on test data \n",
      "\n",
      "confusion matrix: \n",
      " [[72 14]\n",
      " [33 43]]\n",
      "classification report: \n",
      "               precision    recall  f1-score   support\n",
      "\n",
      "           0       0.69      0.84      0.75        86\n",
      "           1       0.75      0.57      0.65        76\n",
      "\n",
      "    accuracy                           0.71       162\n",
      "   macro avg       0.72      0.70      0.70       162\n",
      "weighted avg       0.72      0.71      0.70       162\n",
      "\n"
     ]
    }
   ],
   "source": [
    "obj6.predict()"
   ]
  },
  {
   "cell_type": "code",
   "execution_count": 114,
   "id": "d88944b3",
   "metadata": {},
   "outputs": [
    {
     "data": {
      "image/png": "[encoded data removed]",
      "text/plain": [
       "<Figure size 640x480 with 1 Axes>"
      ]
     },
     "metadata": {},
     "output_type": "display_data"
    }
   ],
   "source": [
    "obj6.roc_plot()"
   ]
  },
  {
   "cell_type": "code",
   "execution_count": null,
   "id": "279324b0",
   "metadata": {},
   "outputs": [],
   "source": []
  }
 ],
 "metadata": {
  "accelerator": "GPU",
  "colab": {
   "provenance": []
  },
  "gpuClass": "standard",
  "kernelspec": {
   "display_name": "Python 3 (ipykernel)",
   "language": "python",
   "name": "python3"
  },
  "language_info": {
   "codemirror_mode": {
    "name": "ipython",
    "version": 3
   },
   "file_extension": ".py",
   "mimetype": "text/x-python",
   "name": "python",
   "nbconvert_exporter": "python",
   "pygments_lexer": "ipython3",
   "version": "3.9.13"
  }
 },
 "nbformat": 4,
 "nbformat_minor": 5
}
